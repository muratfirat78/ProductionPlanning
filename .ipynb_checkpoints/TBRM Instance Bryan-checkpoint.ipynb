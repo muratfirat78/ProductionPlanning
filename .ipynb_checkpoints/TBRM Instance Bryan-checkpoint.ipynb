{
 "cells": [
  {
   "cell_type": "code",
   "execution_count": 6,
   "id": "d200cfbc-98dd-4a80-9292-e89412cdb1dd",
   "metadata": {},
   "outputs": [
    {
     "name": "stdout",
     "output_type": "stream",
     "text": [
      "Nr Products:  561\n",
      "Nr Resources:  33\n",
      "Nr Operations:  984\n",
      "Nr Customer Orders:  127\n"
     ]
    }
   ],
   "source": [
    "import pandas as pd\n",
    "import numpy as np\n",
    "from pathlib import Path\n",
    "import os\n",
    "from Data import*\n",
    "\n",
    "bom_df = pd.read_excel(\"Bill of Material (mrp.bom)updated.xlsx\")\n",
    "stock_df = pd.read_excel(\"Reordering Rule.xlsx\")\n",
    "\n",
    "Stockproducts = list(stock_df['Product'])\n",
    "#Machines_df = pd.read_excel(\"Maintenance Equipment.xlsx\")\n",
    "#Machines =list(Machines_df['']\n",
    "Machines = ['M3-01 - Accuwell - 3axis - Manual (FR3_01)','M5-03 - Haas - 5axis - Manual (UMC750)','M3-02 - Accuwell - 3axis - Manual (FR3_02)','M3-03 - Haas - 3axis - Manual (VF2SS)']\n",
    "AutomatedMachines = ['M5-04 - Haas - 5axis  - Manual (UMC750SS)','M5-01 - Accuwell - 5axis - Pallet automaton (FR5_01)','M4-01 - Accuwell -  4axis - Conveyor automation (FR4_01)','M4-02 - Accuwell - 4axis - Conveyor automation (FR4_02)','M5-02 - Accuwell - 5axis - Conveyor automation (FR5_02)']\n",
    "Manual = ['MP3 - Material preparation - pre-cutted, only picking (UITG_M)','MP2 - Material preparation - manual sawing (ZGN_02)','BW - Benchwork (BKW_01)','PACK - Packaging (VERP_P)','MP1 - Material preparation - automatic sawing (ZGN_01)']\n",
    "\n",
    "DataMgr = DataManager()\n",
    "DataMgr.getResources().clear()\n",
    "DataMgr.getProducts().clear()\n",
    "\n",
    "def MakeProduct (dbmgr,product,stock):\n",
    "\n",
    "    if (product.find(\"[\")>-1) and (product.find(\"]\")>-1):\n",
    "        productnumber = product[product.find(\"[\")+1:product.find(\"]\")];\n",
    "        productname = product[product.find(\"]\")+1:];\n",
    "        if not \"[\"+productnumber+\"] \"+productname in dbmgr.getProducts():\n",
    "            newproduct = Product(len(dbmgr.getProducts()),\"[\"+productnumber+\"] \"+productname,productnumber,stock);\n",
    "            return newproduct\n",
    "        else:\n",
    "            return dbmgr.getProducts()[\"[\"+productnumber+\"] \"+productname]\n",
    "    else:\n",
    "        if not product in dbmgr.getProducts():\n",
    "            newproduct = Product(len(dbmgr.getProducts()),product,product,stock);\n",
    "            return newproduct\n",
    "        else:\n",
    "            return dbmgr.getProducts()[product]\n",
    "\n",
    "def MakeOperation(dbmgr,operation,prod,resource,duration):\n",
    "    myresource=None;\n",
    "    if not resource in dbmgr.getResources():\n",
    "        if resource in Machines or resource in AutomatedMachines:\n",
    "            if resource in Machines:\n",
    "              myresource = Resource(len(dbmgr.getResources()),\"Machine\",resource,15);\n",
    "              myresource.setAutomated(False);\n",
    "              myresource.setOperatingEffort(0.3);\n",
    "              myresource.setAvailableShift(\"All\");\n",
    "              dbmgr.getResources()[resource]=myresource;\n",
    "            else:\n",
    "               myresource = Resource(len(dbmgr.getResources()),\"Machine\",resource,24);\n",
    "               dbmgr.getResources()[resource]=myresource;\n",
    "               myresource.setAutomated(True);\n",
    "               myresource.setAvailableShift(\"All\");\n",
    "               myresource.setOperatingEffort(0.1);\n",
    "        elif \"Outsourced\" in resource.split():\n",
    "            myresource = Resource(len(dbmgr.getResources()),\"Outsourced\",resource,10000);\n",
    "            myresource.setAvailableShift(\"All\");\n",
    "            dbmgr.getResources()[resource]=myresource;\n",
    "        else:\n",
    "            myresource = Resource(len(dbmgr.getResources()),\"Manual\",resource,15);\n",
    "            if resource == 'MP1 - Material preparation - automatic sawing (ZGN_01)':\n",
    "                myresource.setOperatingEffort(0.15)\n",
    "            elif resource == 'MP3 - Material preparation - pre-cutted, only picking (UITG_M)':\n",
    "                myresource.setOperatingEffort(0)\n",
    "            else:                \n",
    "                myresource.setOperatingEffort(1);\n",
    "            myresource.setAvailableShift(\"All\");\n",
    "            dbmgr.getResources()[resource]=myresource;\n",
    "    else:\n",
    "        myresource = dbmgr.getResources()[resource]; \n",
    "\n",
    "    \n",
    "    newopr = operation\n",
    "\n",
    "    if myresource !=None:\n",
    "        myresource.getOperations().append(newopr)\n",
    "        newopr.getRequiredResources().append(myresource)\n",
    "\n",
    "    if not newopr.getName() in dbmgr.getOperations():\n",
    "        dbmgr.getOperations()[newopr.getName()]=newopr;\n",
    "        \n",
    "    return newopr\n",
    "\n",
    "def SaveInstance(DataMgr,file):\n",
    "\n",
    "        # Save Products.\n",
    "        products_df = pd.DataFrame(columns= [\"ProductID\", \"ProductNumber\",\"Name\",\"StockUnit\",\"StockBatch\",\"StockLevel\",\"PrescribedBatchsize\",\"ChosenBatchsize\"])\n",
    "        precedences_df = pd.DataFrame(columns= [\"PredecessorID\",\"SuccessorID\",\"Multiplier\"])\n",
    "        prodrops_df = pd.DataFrame(columns= [\"ProductID\",\"OperationID\",\"OperationIndex\"])\n",
    "        operations_df = pd.DataFrame(columns= [\"OperationID\",\"Name\",\"ProcessTime\",\"Predecessor\"])\n",
    "        opsres_df = pd.DataFrame(columns= [\"OperationID\",\"ResourceID\"])\n",
    "        resources_df = pd.DataFrame(columns= [\"ResourceID\",\"ResourceType\",\"Name\",\"DailyCapacity\",\"Automated\",\"OperatingEffort\",\"Shift\"])\n",
    "        orders_df = pd.DataFrame(columns= [\"OrderID\",\"ProductID\",\"ProductName\",\"Name\",\"Quantity\",\"Deadline\"])\n",
    " \n",
    "        \n",
    "        for name,myprod in DataMgr.Products.items():\n",
    "            products_df.loc[len(products_df)] = {\"ProductID\":myprod.getID(), \"ProductNumber\":myprod.getPN(),\"Name\":myprod.getName(),\"StockUnit\":myprod.getStockUnit(),\"StockBatch\":myprod.getStockBatch(),\"StockLevel\":myprod.getStockLevel(),\"PrescribedBatchsize\":myprod.getPrescribedBatchsize(),\"ChosenBatchsize\":myprod.getChosenBatchsize()}\n",
    "\n",
    "            \n",
    "            for pred in myprod.getPredecessors():\n",
    "                precedences_df.loc[len(precedences_df)] = {\"PredecessorID\":pred.getID(),\"SuccessorID\":myprod.getID(),\"Multiplier\":myprod.getMPredecessors()[pred]}\n",
    " \n",
    "            oprind = 0\n",
    "            for opr in myprod.getOperations(): \n",
    "                prodrops_df.loc[len(prodrops_df)] = {\"ProductID\":myprod.getID(),\"OperationID\":opr.getID(),\"OperationIndex\":oprind}\n",
    "                oprind+=1 \n",
    "\n",
    "        for opname,opr in DataMgr.Operations.items():\n",
    "            pred = \"\"\n",
    "            if list(opr.getPredecessor().keys()) != []:\n",
    "                pred = list(opr.getPredecessor().keys())[0]\n",
    "            operations_df.loc[len(operations_df)]= {\"OperationID\":opr.getID(),\"Name\":opr.getName(),\"ProcessTime\":opr.getProcessTime(),\"Predecessor\":pred}\n",
    "            \n",
    "            for res in opr.getRequiredResources(): \n",
    "                opsres_df.loc[len(opsres_df)]= {\"OperationID\":opr.getID(),\"ResourceID\":res.getID()}\n",
    "        \n",
    "\n",
    "        for resname,res in DataMgr.Resources.items():\n",
    "            resources_df.loc[len(resources_df)] ={\"ResourceID\":res.getID(),\"ResourceType\":res.getType(),\"Name\":res.getName(),\"DailyCapacity\":res.getDailyCapacity(),\"Automated\":res.getAutomated(),\"OperatingEffort\":res.getOperatingEffort(),\"Shift\":res.getAvailableShift()}\n",
    " \n",
    "        \n",
    "        for ordname,ordr in DataMgr.CustomerOrders.items():\n",
    "            orders_df.loc[len(orders_df)]={\"OrderID\":ordr.getID(),\"ProductID\":ordr.getProduct().getID(),\"ProductName\":ordr.getProduct().getName(),\"Name\":ordr.getName(),\"Quantity\":ordr.getQuantity(),\"Deadline\":ordr.getDeadLine()}\n",
    "\n",
    "    \n",
    "\n",
    "\n",
    "        folder = 'UseCases'; casename = file\n",
    "        path = folder+\"\\\\\"+casename\n",
    "        isExist = os.path.exists(path)\n",
    "\n",
    "        if not isExist:\n",
    "            os.makedirs(path)\n",
    "       \n",
    "        \n",
    "        filename = 'Products.csv'; path = folder+\"\\\\\"+casename+\"\\\\\"+filename;  fullpath = os.path.join(Path.cwd(), path) \n",
    "        products_df.to_csv(path, index=False)\n",
    "        filename = 'Precedences.csv';path = folder+\"\\\\\"+casename+\"\\\\\"+filename; fullpath = os.path.join(Path.cwd(), path)\n",
    "        precedences_df.to_csv(fullpath, index=False)\n",
    "        filename = 'ProductsOperations.csv'; path = folder+\"\\\\\"+casename+\"\\\\\"+filename; fullpath = os.path.join(Path.cwd(), path)\n",
    "        prodrops_df.to_csv(fullpath, index=False)\n",
    "        filename = 'ResourcesOperations.csv'; path = folder+\"\\\\\"+casename+\"\\\\\"+filename; fullpath = os.path.join(Path.cwd(), path)\n",
    "        opsres_df.to_csv(fullpath, index=False)\n",
    "        filename = 'Operations.csv'; path = folder+\"\\\\\"+casename+\"\\\\\"+filename; fullpath = os.path.join(Path.cwd(), path)\n",
    "        operations_df.to_csv(fullpath, index=False)\n",
    "        filename = 'Resources.csv'; path = folder+\"\\\\\"+casename+\"\\\\\"+filename; fullpath = os.path.join(Path.cwd(), path)\n",
    "        resources_df.to_csv(fullpath, index=False)\n",
    "        filename = 'CustomerOrders.csv'; path = folder+\"\\\\\"+casename+\"\\\\\"+filename;fullpath = os.path.join(Path.cwd(), path)\n",
    "        orders_df.to_csv(fullpath, index=False)\n",
    "\n",
    "        return\n",
    "\n",
    "##Create operators and manual worker\n",
    "Op1 = Resource(len(DataMgr.getResources()),\"Operator\",\"Operator 1\",8);\n",
    "Op1.setAvailableShift(1);\n",
    "DataMgr.getResources()[\"Operator 1\"]=Op1;\n",
    "\n",
    "Op2 = Resource(len(DataMgr.getResources()),\"Operator\",\"Operator 2\",8);\n",
    "Op2.setAvailableShift(1);\n",
    "DataMgr.getResources()[\"Operator 2\"]=Op2;\n",
    "\n",
    "Op3 = Resource(len(DataMgr.getResources()),\"Operator\",\"Operator 3\",7);\n",
    "Op3.setAvailableShift(2);\n",
    "DataMgr.getResources()[\"Operator 3\"]=Op3;\n",
    "\n",
    "ManWor = Resource(len(DataMgr.getResources()),\"Operator\",\"Manual workers\",15);\n",
    "DataMgr.getResources()[\"Manual workers\"]=ManWor;\n",
    "##End create operators\n",
    "\n",
    "PrescribedBatches=dict()\n",
    "\n",
    "for row, rule in stock_df.iterrows():\n",
    "    PrescribedBatches[rule['Product']]=rule['Multiple Quantity']\n",
    "\n",
    "\n",
    "\n",
    "nopass = 0;\n",
    "Stockproducts = list(stock_df['Product'])\n",
    "for i,r in bom_df.iterrows():\n",
    "    CreatedOperations=[]\n",
    "    productrow = False;\n",
    "    if nopass > 0:\n",
    "        nopass -=1\n",
    "        continue\n",
    "\n",
    "    if isinstance(r['Product'],str):\n",
    "        if not pd.isnull(r['Product']):\n",
    "            productrow = True;\n",
    "\n",
    "    if productrow == True:\n",
    "        newproduct = MakeProduct(DataMgr,r['Product'],0)\n",
    "        if r['Product'] in PrescribedBatches:\n",
    "            newproduct.setPrescribedBatchsize(PrescribedBatches[r['Product']])\n",
    "        newproduct.setStockUnit(r['BoM Lines/Product Unit of Measure'])\n",
    "        if r['BoM Lines/Product Unit of Measure'] == 'mm':\n",
    "            newproduct.setStockBatch(3000)\n",
    "        DataMgr.getProducts()[newproduct.getName()] = newproduct;\n",
    "\n",
    "        if not pd.isnull(r['BoM Lines/Component']):\n",
    "            rawprod=r['BoM Lines/Component']\n",
    "            if rawprod in Stockproducts:\n",
    "                stock = stock_df['On Hand'][Stockproducts.index(rawprod)]\n",
    "            else:\n",
    "                stock=0\n",
    "\n",
    "            rawprod = MakeProduct(DataMgr,r['BoM Lines/Component'],stock)\n",
    "            \n",
    "            quantity = r['BoM Lines/Quantity']\n",
    "\n",
    "            newproduct.getMPredecessors()[rawprod] = quantity\n",
    "            newproduct.getPredecessors().append(rawprod)\n",
    "            rawprod.setSuccessor(newproduct)\n",
    "            if r['Product'] in PrescribedBatches:\n",
    "                rawprod.setPrescribedBatchsize(PrescribedBatches[r['Product']])\n",
    "\n",
    "            DataMgr.getProducts()[rawprod.getName()] = rawprod\n",
    "\n",
    "        j = i\n",
    "        while j < len(bom_df):\n",
    "            if not pd.isnull(bom_df.iloc[j,bom_df.columns.get_loc('Product')]) and j > i:\n",
    "                break\n",
    "            #print(\"Operation: \",bom_df.iloc[j,bom_df.columns.get_loc('BoM Lines/Operations')],\"-\",bom_df.iloc[j,bom_df.columns.get_loc('Reference')])\n",
    "            duration = bom_df['BoM Lines/Operations/Duration'][j]\n",
    "            if isinstance(duration, (int, float)):\n",
    "                dur = float(1/60)*float(duration) # time assumed to be minute..\n",
    "\n",
    "            if not pd.isnull(bom_df.iloc[j,bom_df.columns.get_loc('BoM Lines/Operations')]):\n",
    "                if bom_df.iloc[j,bom_df.columns.get_loc('BoM Lines/Operations/Work Center')] == \"OUT - Outsourced activity\":\n",
    "                    myopr = Operation(len(DataMgr.getOperations()),bom_df.iloc[j,bom_df.columns.get_loc('BoM Lines/Operations')]+\"_\"+newproduct.getName(),dur)\n",
    "                    myopr = MakeOperation(DataMgr,myopr,newproduct,bom_df.iloc[j,bom_df.columns.get_loc('BoM Lines/Operations/Work Center')]+\"_\"+bom_df.iloc[j,bom_df.columns.get_loc('BoM Lines/Operations')],dur)\n",
    "                    newproduct.getOperations().append(myopr)                    \n",
    "                    if j > i:\n",
    "                        myopr.setPredecessor(CreatedOperations[-1])\n",
    "                    CreatedOperations.append(myopr)\n",
    "                else:\n",
    "                    myopr = Operation(len(DataMgr.getOperations()),bom_df.iloc[j,bom_df.columns.get_loc('BoM Lines/Operations')]+\"_\"+newproduct.getName(),dur)\n",
    "                    myopr = MakeOperation(DataMgr,myopr,newproduct,bom_df.iloc[j,bom_df.columns.get_loc('BoM Lines/Operations/Work Center')],dur)\n",
    "                    newproduct.getOperations().append(myopr.getName())\n",
    "                    if j > i:\n",
    "                        myopr.setPredecessor(CreatedOperations[-1])\n",
    "                    CreatedOperations.append(myopr)\n",
    "               \n",
    "   \n",
    "            j+=1 \n",
    "        nopass=len(newproduct.getOperations())-1\n",
    "       \n",
    "        i = j-1\n",
    "        #print(\"i\",i,\"j\",j)\n",
    "    else:\n",
    "        print(\">>>>>>>>>>>> No Product definition: \", isinstance(r['Product'],str),pd.isnull(r['Product']))\n",
    "        print(\"Product value: \",r['Product'])\n",
    "        print(r)\n",
    "\n",
    "rel_path = \"Sales Order Line (sale.order.line).xlsx\"\n",
    "abs_file_path = os.path.join(Path.cwd(), rel_path)\n",
    "xls = pd.ExcelFile(abs_file_path)\n",
    "orders_df = pd.read_excel(xls,\"Sheet1\")\n",
    "\n",
    "#orders_df['Delivery Date']  = pd.to_datetime(orders_df['Delivery Date'] )\n",
    "\n",
    "for i,r in orders_df.iterrows():\n",
    "    code = r['Description']\n",
    "    if code.find(\"[\")>-1 and code.find(\"]\")>-1:\n",
    "        code = code[code.find(\"[\")+1:code.find(\"]\")]\n",
    "    else:\n",
    "        continue\n",
    "    \n",
    "    ordername = r['Order Reference']+\"_(\"+code+\")\"\n",
    "\n",
    "    prodmatch = [prod for prod in DataMgr.getProducts().values() if prod.getPN() == code]\n",
    "\n",
    "    if len(prodmatch) == 0:\n",
    "        continue\n",
    "\n",
    "    myprod = prodmatch[0]\n",
    "    if myprod.getPrescribedBatchsize() is not None:\n",
    "        myprod.setChosenBatchsize(myprod.getPrescribedBatchsize())\n",
    "    else:\n",
    "        myprod.setChosenBatchsize(r['Quantity']) \n",
    "\n",
    "    deadline = datetime.today().strftime('%Y-%m-%d')\n",
    "\n",
    "    if not pd.isnull(r['Delivery Date']):\n",
    "        deadline = r['Delivery Date'].strftime('%Y-%m-%d')\n",
    "    \n",
    "\n",
    "    #print(r['Delivery Date'],pd.isnull(r['Delivery Date']))\n",
    "    myorder = CustomerOrder(len(DataMgr.getCustomerOrders()),ordername,myprod.getID()\n",
    "                                                           ,myprod.getName(),r['Quantity'],str(deadline))\n",
    "    myorder.setProduct(myprod)\n",
    "\n",
    "    DataMgr.getCustomerOrders()[ordername] = myorder\n",
    "\n",
    "print('Nr Products: ',len(DataMgr.getProducts()))\n",
    "print('Nr Resources: ',len(DataMgr.getResources()))\n",
    "print('Nr Operations: ',len(DataMgr.getOperations()))\n",
    "print(\"Nr Customer Orders: \",len(DataMgr.getCustomerOrders()))\n",
    "\n",
    "# SaveInstance(DataMgr,'TBRM_Volledige_Instantie')\n",
    "\n",
    "    \n",
    "\n",
    "    \n",
    "    \n",
    "        \n",
    "\n",
    "    "
   ]
  },
  {
   "cell_type": "code",
   "execution_count": 1,
   "id": "0c68d6c3-35b6-4427-b9c2-c2e6b20c400b",
   "metadata": {
    "scrolled": true
   },
   "outputs": [
    {
     "data": {
      "application/vnd.jupyter.widget-view+json": {
       "model_id": "1c8056814def4303baabe07b4f346de5",
       "version_major": 2,
       "version_minor": 0
      },
      "text/plain": [
       "Tab(children=(VBox(children=(HBox(children=(Text(value='UseCases', description='Folder name:'), Dropdown(descr…"
      ]
     },
     "execution_count": 1,
     "metadata": {},
     "output_type": "execute_result"
    }
   ],
   "source": [
    "import os\n",
    "online_version = False;\n",
    "from DBMain import*\n",
    "\n",
    "#############################################################################################################\n",
    "tab_1 = VisMgr.get_case_selection_tab(); tab_4 = VisMgr.generatePSTAB(); tab_2 = VisMgr.generateCOTAB(); tab_3 = VisMgr.generatePLTAB()\n",
    "tab_5 = VisMgr.getSchedulingTab().generatePSschTAB()\n",
    "###################################################################################################################\n",
    "tab_set = widgets.Tab([tab_1,tab_4,tab_2,tab_3,tab_5])\n",
    "tab_set.set_title(0, 'UseCase Selection'); tab_set.set_title(1, 'Production System'); tab_set.set_title(2, 'Customer Orders');\n",
    "tab_set.set_title(3, 'Production Planning'); tab_set.set_title(4, 'Production Schedule');tab_set"
   ]
  },
  {
   "cell_type": "code",
   "execution_count": 2,
   "id": "9779261c-1499-45c1-8b73-1533503f6dc7",
   "metadata": {},
   "outputs": [],
   "source": [
    "test = DataMgr\n"
   ]
  },
  {
   "cell_type": "code",
   "execution_count": null,
   "id": "e97803b6-0d43-4155-9863-28a43c08d4bc",
   "metadata": {
    "scrolled": true
   },
   "outputs": [],
   "source": [
    "oprdict = dict() # key: operation, #val: set of jobs\n",
    "      \n",
    "\n",
    "for resname,res in self.getDataManager().getResources().items():\n",
    "    res.getSchedule().clear()\n",
    "\n",
    "# Collect operations with jobs\n",
    "nrjobs = 0\n",
    "for prname,prod in self.getDataManager().getProducts().items():\n",
    "    for opr in prod.getOperations():\n",
    "        if not opr in oprdict:\n",
    "            oprdict[opr] = opr.getJobs()\n",
    "            nrjobs+= len(opr.getJobs())\n",
    "            \n",
    "self.getVisualManager().getPSchScheRes().value+=\" To schedule jobs: \"+str(nrjobs)+\"\\n\"\n",
    "revopdict = {k: oprdict[k] for k in sorted(oprdict, key=lambda x: list(oprdict.keys()).index(x), reverse=True)}\n",
    "\n",
    "\n",
    "for k1, k2 in zip(revopdict, list(revopdict)[1:]): #links pairs of keys together \n",
    "    if len(revopdict[k1]) > 0 and len(revopdict[k2]) >0:\n",
    "        CurJobs = revopdict[k1][::-1];\n",
    "        Predjobs = revopdict[k2][::-1];\n",
    "        \n",
    "        for i in range(0,len(CurJobs)):\n",
    "            CapCurJob = CurJobs[i].getQuantity();           \n",
    "                      \n",
    "            \n",
    "            for k in Predjobs:\n",
    "                \n",
    "                if k.getQuantity() < CapCurJob:\n",
    "                    CapCurJob = CapCurJob - k.getQuantity();\n",
    "                    if k not in CurJobs[i].getPredecessors():\n",
    "                        CurJobs[i].getPredecessors().append(k);\n",
    "                    if CurJobs[i] not in k.getSuccessor():\n",
    "                        k.getSuccessor().append(CurJobs[i]);\n",
    "                    Predjobs.remove(k)\n",
    "                else:\n",
    "                    if k not in CurJobs[i].getPredecessors():\n",
    "                        CurJobs[i].getPredecessors().append(k);\n",
    "                    \n",
    "                    if CurJobs[i] not in k.getSuccessor():\n",
    "                        k.getSuccessor().append(CurJobs[i]);\n",
    "                    Predjobs.remove(k)                       \n",
    "                    break\n",
    "## Initialize shifts (example 30 days?)\n",
    "shiftnum = 1000;\n",
    "\n",
    "i=1;\n",
    "day=1;\n",
    "shiftlist=[]\n",
    "while i <= shiftnum:\n",
    "    if i % 2 == 1:\n",
    "        shift = Shift(i,1,8)\n",
    "        shiftlist.append(shift)\n",
    "        i+=1;\n",
    "    else:\n",
    "        shift=Shift(i,2,7)\n",
    "        shiftlist.append(shift)\n",
    "        i+=1\n",
    "\n",
    "#Initialize Schedulable Jobs\n",
    "AllJobs = dict()\n",
    "SchedulableJobs=[]\n",
    "\n",
    "ScheduledJobs=[]\n",
    "for opr, jobs in oprdict.items():\n",
    "    for job in jobs:\n",
    "        if job.getPredecessors() == []:\n",
    "            SchedulableJobs.append(job)\n",
    "        AllJobs[job.getName()]=job;\n",
    "counter = 0       \n",
    "#Initialize schedule for each Resource:\n",
    "for resname, res in self.getDataManager().getResources().items():\n",
    "    for i in shiftlist:\n",
    "        res.getSchedule()[i]=[]\n",
    "\n",
    "#Create Schedule\n",
    "while len(SchedulableJobs) >0:\n",
    "    for j in SchedulableJobs:\n",
    "        predecessorjobs = j.getPredecessors()\n",
    "        successorjobs = j.getSuccessor()\n",
    "        if not (predecessorjobs ==[]):\n",
    "        #Determine Earliest starttime\n",
    "            maxpredecessor = None;\n",
    "            for i in predecessorjobs:\n",
    "                completiontime = i.getStartTime() + (i.getQuantity() * self.getDataManager().getOperations()[i.getOperation().getName()].getProcessTime())\n",
    "                if maxpredecessor == None or completiontime >= maxpredecessor:\n",
    "                    maxpredecessor = completiontime\n",
    "            EarliestStart = maxpredecessor;\n",
    "        else:\n",
    "            EarliestStart = 0\n",
    "            \n",
    "        #Determine earliest available resource\n",
    "        processtime = (j.getQuantity() * self.getDataManager().getOperations()[j.getOperation().getName()].getProcessTime())\n",
    "        resources = j.getOperation().getRequiredResources()\n",
    "        for r in resources:\n",
    "            Automated = r.getAutomated()\n",
    "            opef = r.getOperatingEffort()\n",
    "            for shift, jobtime in r.getSchedule().items():\n",
    "                \n",
    "                ##Here we now have the completion time of the last job in a shift. Check if the to job to schedule fits in the shift. Else check next shift.\n",
    "                if jobtime ==[]:\n",
    "                    completiontimeLatestJob = 0;\n",
    "                else:\n",
    "                    completiontimeLatestJob = jobtime[::-1][0][1] + (jobtime[::-1][0][0].getQuantity() * self.getDataManager().getOperations()[jobtime[::-1][0][0].getOperation().getName()].getProcessTime())\n",
    "                \n",
    "                shiftcap = shift.getCapacity()\n",
    "                shiftnumber = shift.getNumber()\n",
    "                \n",
    "                if shiftnumber == 1:\n",
    "                    CurOpeffOp1 = 0; ## Also check operator availability.\n",
    "                    SchedOp1 = self.getDataManager().getResources()['Operator 1'].getSchedule();\n",
    "                    CurOpeffOp2 = 0;\n",
    "                    SchedOp2 = self.getDataManager().getResources()['Operator 2'].getSchedule();\n",
    "                    for jobs in SchedOp1[shift]:\n",
    "                        for resOpJob in jobs[0].getOperation().getRequiredResources():\n",
    "                            CurOpeffOp1 += resOpJob.getOperatingEffort()\n",
    "                    for jobs in SchedOp2[shift]:\n",
    "                        for resOpJob in jobs[0].getRequiredResources():\n",
    "                            CurOpeffOp2 += resOpJob.getOperatingEffort()\n",
    "\n",
    "                    if shiftcap > (completiontimeLatestJob + processtime) and (CurOpeffOp1 + opef <= 1 or CurOpeffOp2 + opef <=1): #This means we can schedule in first shift\n",
    "                        j.setStartTime(completiontimeLatestJob)\n",
    "                        if (CurOpeffOp1 +opef <= 1):\n",
    "                           SchedOp1[shift].append((j,completiontimeLatestJob))\n",
    "                        else:\n",
    "                            SchedOp2[shift].append((j,completiontimeLatestJob))\n",
    "                        r.getSchedule()[shift].append((j,completiontimeLatestJob))                                \n",
    "                        ScheduledJobs.append(j)\n",
    "                        ## check if successor can be scheduled.\n",
    "                        for sucjob in successorjobs:\n",
    "                            Schedulable = True\n",
    "                            for predjbs in sucjob.getPredecessors():\n",
    "                                if predjbs in ScheduledJobs:\n",
    "                                    continue\n",
    "                                else:\n",
    "                                    Schedulable = False;\n",
    "                            if Schedulable == True:\n",
    "                                SchedulableJobs.append(sucjob)\n",
    "                        \n",
    "                        SchedulableJobs.remove(j) #Remove scheduled job\n",
    "                        break\n",
    "                    else:\n",
    "                        continue\n",
    "\n",
    "                if shiftnumber == 2:\n",
    "                    CurOpeffOp3 = 0; ## Also check operator availability.\n",
    "                    SchedOp3 = self.getDataManager().getResources()['Operator 3'].getSchedule();\n",
    "                    \n",
    "                    for jobs in SchedOp3[shift]:\n",
    "                        for resOpJob in jobs[0].getOperation().getRequiredResources():\n",
    "                            CurOpeffOp3 += resOpJob.getOperatingEffort()\n",
    "                    if  ((Automated is None) and processtime < 8) or Automated == False:\n",
    "                        if shiftcap > (completiontimeLatestJob + processtime) and (CurOpeffOp3 + opef<=1): #This means we can schedule in second shift\n",
    "                            j.setStartTime(completiontimeLatestJob)\n",
    "                            SchedOp3[shift].append((j,completiontimeLatestJob))\n",
    "                            \n",
    "                            r.getSchedule()[shift].append((j,completiontimeLatestJob))                                \n",
    "                            ScheduledJobs.append(j)\n",
    "                            ## check if successors can be scheduled.\n",
    "                            for sucjob in successorjobs:\n",
    "                                Schedulable = True\n",
    "                                for predjbs in sucjob.getPredecessors():\n",
    "                                    if predjbs in ScheduledJobs:\n",
    "                                        continue\n",
    "                                    else:\n",
    "                                        Schedulable = False;\n",
    "                                if Schedulable == True:\n",
    "                                    SchedulableJobs.append(sucjob)\n",
    "                            \n",
    "                            SchedulableJobs.remove(j) #Remove scheduled job\n",
    "                            break\n",
    "                        else:\n",
    "                            continue\n",
    "\n",
    "                    elif (Automated == True) or (Automated is None and processtime > 8):                        \n",
    "                        if shiftcap >= (completiontimeLatestJob) and (CurOpeffOp3 + opef<=1): #This means we can schedule in second shift\n",
    "                            j.setStartTime(completiontimeLatestJob)\n",
    "                            SchedOp3[shift].append((j,completiontimeLatestJob))\n",
    "                            \n",
    "                            r.getSchedule()[shift].append((j,completiontimeLatestJob))                                \n",
    "                            ScheduledJobs.append(j)\n",
    "                            ## check if successors can be scheduled.\n",
    "                            for sucjob in successorjobs:\n",
    "                                Schedulable = True\n",
    "                                for predjbs in sucjob.getPredecessors():\n",
    "                                    if predjbs in ScheduledJobs:\n",
    "                                        continue\n",
    "                                    else:\n",
    "                                        Schedulable = False;\n",
    "                                if Schedulable == True:\n",
    "                                    SchedulableJobs.append(sucjob)\n",
    "                            \n",
    "                            SchedulableJobs.remove(j) #Remove scheduled job\n",
    "                            break\n",
    "                        else:\n",
    "                            continue                        \n",
    "            break\n",
    "            "
   ]
  },
  {
   "cell_type": "code",
   "execution_count": 3,
   "id": "8e04677d-4dd5-4e01-854e-a9b609391cd3",
   "metadata": {},
   "outputs": [],
   "source": [
    "schedules_df = pd.DataFrame(columns= [\"ResourceID\",\"ResourceName\",\"Shift\",\"JobID\",\"Starttime\",\"Day\"])"
   ]
  },
  {
   "cell_type": "code",
   "execution_count": 4,
   "id": "013436c2-5c86-40eb-8bb2-a30ead86a26e",
   "metadata": {},
   "outputs": [
    {
     "name": "stdout",
     "output_type": "stream",
     "text": [
      "Operator 1\n",
      "Operator 2\n",
      "Operator 3\n",
      "Manual workers\n",
      "MP2 - Material preparation - manual sawing (ZGN_02)\n",
      "M3-01 - Accuwell - 3axis - Manual (FR3_01)\n",
      "BW - Benchwork (BKW_01)\n",
      "PACK - Packaging (VERP_P)\n",
      "OUT - Outsourced activity_Chromising\n",
      "MP1 - Material preparation - automatic sawing (ZGN_01)\n",
      "M5-01 - Accuwell - 5axis - Pallet automaton (FR5_01)\n",
      "M4-01 - Accuwell -  4axis - Conveyor automation (FR4_01)\n",
      "M5-03 - Haas - 5axis - Manual (UMC750)\n",
      "M3-02 - Accuwell - 3axis - Manual (FR3_02)\n",
      "OUT - Outsourced activity_Anodising\n",
      "OUT - Outsourced activity_Painting\n",
      "MP3 - Material preparation - pre-cutted, only picking (UITG_M)\n",
      "M4-02 - Accuwell - 4axis - Conveyor automation (FR4_02)\n",
      "OUT - Outsourced activity_Passivating\n",
      "OUT - Outsourced activity_Cleaning\n",
      "OUT - Outsourced activity_Sandblasting\n",
      "OUT - Outsourced activity_Nickel plating\n",
      "M3-03 - Haas - 3axis - Manual (VF2SS)\n",
      "M5-02 - Accuwell - 5axis - Conveyor automation (FR5_02)\n",
      "OUT - Outsourced activity_Anodising + Cleaning\n",
      "OUT - Outsourced activity_Anodize\n",
      "OUT - Outsourced activity_Chromatize\n",
      "M5-04 - Haas - 5axis  - Manual (UMC750SS)\n",
      "OUT - Outsourced activity_CAM\n",
      "OUT - Outsourced activity_Nickel Plating\n",
      "OUT - Outsourced activity_External Milling Tungsten\n",
      "OUT - Outsourced activity_External Cleaning + RGA\n",
      "OUT - Outsourced activity_Anodize (clear)\n"
     ]
    }
   ],
   "source": [
    "casename = 'TBRM_Volledige_Instantie'\n",
    "folder = 'UseCases'; casename\n",
    "path = folder+\"\\\\\"+casename\n",
    "isExist = os.path.exists(path)\n",
    "\n",
    "if not isExist:\n",
    "    os.makedirs(path)\n",
    "\n",
    "for name,myres in DataMgr.Resources.items():\n",
    "    \n",
    "    if name != 'Operator 1' and name != 'Operator 2' and name != 'Operator 3' and myres.getName() != 'Manual workers':\n",
    "        for shift, jobs in myres.getSchedule().items():\n",
    "            if jobs == []:\n",
    "                continue\n",
    "            else:                \n",
    "                for job in jobs:\n",
    "                    schedules_df.loc[len(schedules_df)] = {\"ResourceID\":myres.getID(),\"ResourceName\":name, \"Shift\":shift.getNumber(),\"JobID\":job[0].getID(),\"Starttime\":str(job[1]),\"Day\":shift.getDay()}\n",
    "            \n",
    "filename = 'Schedules.csv'; path = folder+\"\\\\\"+casename+\"\\\\\"+filename;fullpath = os.path.join(Path.cwd(), path)\n",
    "schedules_df.to_csv(fullpath, index=False)"
   ]
  },
  {
   "cell_type": "code",
   "execution_count": 6,
   "id": "15cafa8c-8ce6-40a9-8553-c6b49775715c",
   "metadata": {},
   "outputs": [],
   "source": [
    "oprdict = dict() # key: operation, #val: set of jobs\n",
    "      \n",
    "\n",
    "for resname,res in DataMgr.getResources().items():\n",
    "    res.getSchedule().clear()\n",
    "\n",
    "# Collect operations with jobs\n",
    "nrjobs = 0\n",
    "for prname,prod in DataMgr.getProducts().items():\n",
    "    for opr in prod.getOperations():\n",
    "        if not opr in oprdict:\n",
    "            oprdict[opr] = opr.getJobs()\n",
    "            nrjobs+= len(opr.getJobs())\n",
    "            \n",
    "\n",
    "revopdict = {k: oprdict[k] for k in sorted(oprdict, key=lambda x: list(oprdict.keys()).index(x), reverse=True)}\n",
    "\n",
    "\n",
    "for k1, k2 in zip(revopdict, list(revopdict)[1:]): #links pairs of keys together \n",
    "    if len(revopdict[k1]) > 0 and len(revopdict[k2]) >0:\n",
    "        CurJobs = revopdict[k1][::-1];\n",
    "        Predjobs = revopdict[k2][::-1];\n",
    "        \n",
    "        for i in range(0,len(CurJobs)):\n",
    "            CapCurJob = CurJobs[i].getQuantity();           \n",
    "                      \n",
    "            \n",
    "            for k in Predjobs:\n",
    "                \n",
    "                if k.getQuantity() < CapCurJob:\n",
    "                    CapCurJob = CapCurJob - k.getQuantity();\n",
    "                    if k not in CurJobs[i].getPredecessors():\n",
    "                        CurJobs[i].getPredecessors().append(k);\n",
    "                    if CurJobs[i] not in k.getSuccessor():\n",
    "                        k.getSuccessor().append(CurJobs[i]);\n",
    "                    Predjobs.remove(k)\n",
    "                else:\n",
    "                    if k not in CurJobs[i].getPredecessors():\n",
    "                        CurJobs[i].getPredecessors().append(k);\n",
    "                    \n",
    "                    if CurJobs[i] not in k.getSuccessor():\n",
    "                        k.getSuccessor().append(CurJobs[i]);\n",
    "                    Predjobs.remove(k)                       \n",
    "                    break"
   ]
  },
  {
   "cell_type": "code",
   "execution_count": null,
   "id": "ae918376-8c27-4361-a224-b428468c8734",
   "metadata": {},
   "outputs": [],
   "source": [
    "oprdict"
   ]
  },
  {
   "cell_type": "code",
   "execution_count": null,
   "id": "1457badb-cdb6-433f-b26f-e5207ef459fd",
   "metadata": {},
   "outputs": [],
   "source": [
    "revopdict"
   ]
  },
  {
   "cell_type": "code",
   "execution_count": 13,
   "id": "4b534488-4cdd-485b-bac8-fab5ecc212a8",
   "metadata": {},
   "outputs": [
    {
     "ename": "AttributeError",
     "evalue": "'Product' object has no attribute 'getQuantity'",
     "output_type": "error",
     "traceback": [
      "\u001b[1;31m---------------------------------------------------------------------------\u001b[0m",
      "\u001b[1;31mAttributeError\u001b[0m                            Traceback (most recent call last)",
      "Cell \u001b[1;32mIn[13], line 1\u001b[0m\n\u001b[1;32m----> 1\u001b[0m test\u001b[38;5;241m.\u001b[39mgetProducts()[\u001b[38;5;124m'\u001b[39m\u001b[38;5;124m[00236-05-103-C]  geleideblok spanrol\u001b[39m\u001b[38;5;124m'\u001b[39m]\u001b[38;5;241m.\u001b[39mgetPredecessors()[\u001b[38;5;241m0\u001b[39m]\u001b[38;5;241m.\u001b[39mgetQuantity()\n",
      "\u001b[1;31mAttributeError\u001b[0m: 'Product' object has no attribute 'getQuantity'"
     ]
    }
   ],
   "source": [
    "test.getProducts()['[00236-05-103-C]  geleideblok spanrol'].getPredecessors()[0].getQuantity()"
   ]
  },
  {
   "cell_type": "code",
   "execution_count": 7,
   "id": "425ba206-c599-4792-8065-b6bce008e889",
   "metadata": {},
   "outputs": [
    {
     "ename": "SyntaxError",
     "evalue": "cannot assign to function call here. Maybe you meant '==' instead of '='? (373504330.py, line 1)",
     "output_type": "error",
     "traceback": [
      "\u001b[1;36m  Cell \u001b[1;32mIn[7], line 1\u001b[1;36m\u001b[0m\n\u001b[1;33m    test.getCustomerOrders()['S02854_(00236-05-103-C)'].getProduct().getStockLevel() = test.getCustomerOrders()['S02854_(00236-05-103-C)'].getProduct().getStockLevel() +5\u001b[0m\n\u001b[1;37m    ^\u001b[0m\n\u001b[1;31mSyntaxError\u001b[0m\u001b[1;31m:\u001b[0m cannot assign to function call here. Maybe you meant '==' instead of '='?\n"
     ]
    }
   ],
   "source": [
    "test.getCustomerOrders()['S02854_(00236-05-103-C)'].getProduct().getStockLevel() = test.getCustomerOrders()['S02854_(00236-05-103-C)'].getProduct().getStockLevel() +5\n"
   ]
  },
  {
   "cell_type": "code",
   "execution_count": null,
   "id": "adacaab9-c75b-4963-9803-898f3ba4a3a2",
   "metadata": {},
   "outputs": [],
   "source": [
    "check"
   ]
  },
  {
   "cell_type": "code",
   "execution_count": 13,
   "id": "3fb31779-be83-4ede-a9cf-e1a8c05ba711",
   "metadata": {},
   "outputs": [],
   "source": [
    "check2=dict()"
   ]
  },
  {
   "cell_type": "code",
   "execution_count": 14,
   "id": "7a4ba7a7-8806-4e71-afe5-cba6dadab4ef",
   "metadata": {},
   "outputs": [],
   "source": [
    "for n in check:\n",
    "    check2[n] = check2.get(n,0) + 1"
   ]
  },
  {
   "cell_type": "code",
   "execution_count": null,
   "id": "8a1edd95-246b-4e18-8985-0084b2359bc1",
   "metadata": {},
   "outputs": [],
   "source": [
    "check2"
   ]
  },
  {
   "cell_type": "code",
   "execution_count": 16,
   "id": "82176435-6de4-46c6-911a-3697ddcca023",
   "metadata": {},
   "outputs": [],
   "source": [
    "for a,b in check2.items():\n",
    "    if b>1:\n",
    "        print('hoi')"
   ]
  },
  {
   "cell_type": "code",
   "execution_count": null,
   "id": "244043bb-7884-468a-841a-1c16c307fe50",
   "metadata": {},
   "outputs": [],
   "source": [
    "oprdict"
   ]
  },
  {
   "cell_type": "code",
   "execution_count": 18,
   "id": "d9c99096-0ee2-4956-91ec-a54813a7a26e",
   "metadata": {},
   "outputs": [
    {
     "ename": "SyntaxError",
     "evalue": "invalid syntax (4198264705.py, line 1)",
     "output_type": "error",
     "traceback": [
      "\u001b[1;36m  Cell \u001b[1;32mIn[18], line 1\u001b[1;36m\u001b[0m\n\u001b[1;33m    oprdict[<PlanningObjects.Operation at 0x218918eff20>]\u001b[0m\n\u001b[1;37m            ^\u001b[0m\n\u001b[1;31mSyntaxError\u001b[0m\u001b[1;31m:\u001b[0m invalid syntax\n"
     ]
    }
   ],
   "source": [
    "oprdict[<PlanningObjects.Operation at 0x218918eff20>]"
   ]
  },
  {
   "cell_type": "code",
   "execution_count": 19,
   "id": "8b63921d-4e34-4ae3-a17f-27125cd03baf",
   "metadata": {},
   "outputs": [
    {
     "ename": "SyntaxError",
     "evalue": "invalid syntax. Perhaps you forgot a comma? (141169404.py, line 1)",
     "output_type": "error",
     "traceback": [
      "\u001b[1;36m  Cell \u001b[1;32mIn[19], line 1\u001b[1;36m\u001b[0m\n\u001b[1;33m    oprdict[PlanningObjects.Operation at 0x218918eff20]\u001b[0m\n\u001b[1;37m            ^\u001b[0m\n\u001b[1;31mSyntaxError\u001b[0m\u001b[1;31m:\u001b[0m invalid syntax. Perhaps you forgot a comma?\n"
     ]
    }
   ],
   "source": [
    "oprdict[PlanningObjects.Operation at 0x218918eff20]"
   ]
  },
  {
   "cell_type": "code",
   "execution_count": null,
   "id": "6b8227f0-3183-4e2d-951d-9170be647fd9",
   "metadata": {},
   "outputs": [],
   "source": [
    "oprdict.keys()"
   ]
  },
  {
   "cell_type": "code",
   "execution_count": 24,
   "id": "a82537e6-e388-43c5-8f66-a044836e0246",
   "metadata": {},
   "outputs": [],
   "source": [
    "a = list(oprdict.keys())"
   ]
  },
  {
   "cell_type": "code",
   "execution_count": 25,
   "id": "21d61f90-c2e5-4975-b72b-dac97d181c93",
   "metadata": {},
   "outputs": [
    {
     "data": {
      "text/plain": [
       "[]"
      ]
     },
     "execution_count": 25,
     "metadata": {},
     "output_type": "execute_result"
    }
   ],
   "source": [
    "oprdict[a[0]]"
   ]
  },
  {
   "cell_type": "code",
   "execution_count": 35,
   "id": "1cd9ee83-bb77-44d7-8a82-ef31701eb47d",
   "metadata": {},
   "outputs": [
    {
     "data": {
      "text/plain": [
       "[]"
      ]
     },
     "execution_count": 35,
     "metadata": {},
     "output_type": "execute_result"
    }
   ],
   "source": [
    "oprdict[a[5]][7].getPredecessors()"
   ]
  },
  {
   "cell_type": "code",
   "execution_count": null,
   "id": "310dc143-a4b0-4545-9c35-8fb9ab6c343e",
   "metadata": {},
   "outputs": [],
   "source": [
    "for i in a:\n",
    "    for k in range(0,len(oprdict[i])):\n",
    "        if oprdict[i] == []:\n",
    "            continue\n",
    "        if oprdict[i][k].getPredecessors() != []:\n",
    "            print(oprdict[i][k].getName())"
   ]
  },
  {
   "cell_type": "code",
   "execution_count": null,
   "id": "b74c041d-40c7-4249-a12b-a1339e06a01d",
   "metadata": {},
   "outputs": [],
   "source": [
    "a"
   ]
  },
  {
   "cell_type": "code",
   "execution_count": 3,
   "id": "fc5fe9dc-8017-4330-8188-52a0d4eff7ba",
   "metadata": {},
   "outputs": [
    {
     "data": {
      "text/plain": [
       "<VisSchedule.ScheduleTab at 0x2cc77f24a10>"
      ]
     },
     "execution_count": 3,
     "metadata": {},
     "output_type": "execute_result"
    }
   ],
   "source": [
    "test"
   ]
  },
  {
   "cell_type": "code",
   "execution_count": 4,
   "id": "6e9895c3-ad4a-463b-8c39-73fe1ec0678e",
   "metadata": {},
   "outputs": [
    {
     "data": {
      "text/plain": [
       "<Visual.VisualManager at 0x2cc7788d760>"
      ]
     },
     "execution_count": 4,
     "metadata": {},
     "output_type": "execute_result"
    }
   ],
   "source": [
    "test.getVisualManager()"
   ]
  },
  {
   "cell_type": "code",
   "execution_count": 5,
   "id": "8344fd17-493f-42c9-b8f8-a0956722c001",
   "metadata": {},
   "outputs": [
    {
     "data": {
      "text/plain": [
       "<Data.DataManager at 0x2cc74d2a810>"
      ]
     },
     "execution_count": 5,
     "metadata": {},
     "output_type": "execute_result"
    }
   ],
   "source": [
    "test.getVisualManager().DataManager"
   ]
  },
  {
   "cell_type": "code",
   "execution_count": 3,
   "id": "aab3114f-d9b0-4e75-8f5b-b13bf296cbfc",
   "metadata": {},
   "outputs": [
    {
     "data": {
      "text/plain": [
       "[<PlanningObjects.Operation at 0x206a48110d0>,\n",
       " <PlanningObjects.Operation at 0x206a4810d70>,\n",
       " <PlanningObjects.Operation at 0x206a4810cb0>,\n",
       " <PlanningObjects.Operation at 0x206a4810a10>,\n",
       " <PlanningObjects.Operation at 0x206a48108f0>,\n",
       " <PlanningObjects.Operation at 0x206a4811040>]"
      ]
     },
     "execution_count": 3,
     "metadata": {},
     "output_type": "execute_result"
    }
   ],
   "source": [
    "test.getVisualManager().DataManager.getProducts()['[BD50-5075-011-E]  bracket'].getOperations()"
   ]
  },
  {
   "cell_type": "code",
   "execution_count": 10,
   "id": "2e41ba06-17da-43b2-9f39-9e6d5df62983",
   "metadata": {},
   "outputs": [],
   "source": [
    "a = test.getVisualManager().DataManager.getProducts()['[BD50-5075-011-E]  bracket'].getOperations()"
   ]
  },
  {
   "cell_type": "code",
   "execution_count": 19,
   "id": "91cf67f3-97f3-441b-93ee-85583b8dfe0c",
   "metadata": {},
   "outputs": [],
   "source": [
    "for op in a:\n",
    "    for b in op.getJobs():\n",
    "        print(\"hoi\")\n",
    "        "
   ]
  },
  {
   "cell_type": "code",
   "execution_count": 15,
   "id": "4b149b1a-2623-49a5-af64-80d842466977",
   "metadata": {},
   "outputs": [
    {
     "data": {
      "text/plain": [
       "<PlanningObjects.Operation at 0x2cc78114d70>"
      ]
     },
     "execution_count": 15,
     "metadata": {},
     "output_type": "execute_result"
    }
   ],
   "source": [
    "op"
   ]
  },
  {
   "cell_type": "code",
   "execution_count": 18,
   "id": "c45143b1-4a1b-478b-bc78-b45bea9c82d4",
   "metadata": {},
   "outputs": [
    {
     "data": {
      "text/plain": [
       "[]"
      ]
     },
     "execution_count": 18,
     "metadata": {},
     "output_type": "execute_result"
    }
   ],
   "source": [
    "op.getJobs()"
   ]
  },
  {
   "cell_type": "code",
   "execution_count": null,
   "id": "eeb2a4cf-d80d-4c5e-bc3f-7a1d9d374797",
   "metadata": {},
   "outputs": [],
   "source": [
    "test.getResources()\n"
   ]
  },
  {
   "cell_type": "code",
   "execution_count": null,
   "id": "59574674-b264-48fd-9c24-bb5def0ce807",
   "metadata": {},
   "outputs": [],
   "source": [
    "test.getResources()['M3-01 - Accuwell - 3axis - Manual (FR3_01)'].getSchedule()"
   ]
  },
  {
   "cell_type": "code",
   "execution_count": 3,
   "id": "af9bd6fe-1599-4fe4-8412-a35c023dc9b4",
   "metadata": {},
   "outputs": [],
   "source": [
    "a = dict()"
   ]
  },
  {
   "cell_type": "code",
   "execution_count": 4,
   "id": "9c23987b-b546-4878-834f-ddd0cec7cdbf",
   "metadata": {},
   "outputs": [
    {
     "data": {
      "text/plain": [
       "dict_keys([])"
      ]
     },
     "execution_count": 4,
     "metadata": {},
     "output_type": "execute_result"
    }
   ],
   "source": [
    "a.keys()"
   ]
  },
  {
   "cell_type": "code",
   "execution_count": 5,
   "id": "0feea84f-664a-4694-8efc-240aa1c2776d",
   "metadata": {},
   "outputs": [
    {
     "data": {
      "text/plain": [
       "[]"
      ]
     },
     "execution_count": 5,
     "metadata": {},
     "output_type": "execute_result"
    }
   ],
   "source": [
    "list(a.keys())"
   ]
  },
  {
   "cell_type": "code",
   "execution_count": null,
   "id": "a202b04e-1fd2-4e55-b676-c5e8258e7799",
   "metadata": {},
   "outputs": [],
   "source": []
  }
 ],
 "metadata": {
  "kernelspec": {
   "display_name": "Python 3 (ipykernel)",
   "language": "python",
   "name": "python3"
  },
  "language_info": {
   "codemirror_mode": {
    "name": "ipython",
    "version": 3
   },
   "file_extension": ".py",
   "mimetype": "text/x-python",
   "name": "python",
   "nbconvert_exporter": "python",
   "pygments_lexer": "ipython3",
   "version": "3.12.9"
  }
 },
 "nbformat": 4,
 "nbformat_minor": 5
}
