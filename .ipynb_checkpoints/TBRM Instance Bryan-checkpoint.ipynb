{
 "cells": [
  {
   "cell_type": "code",
   "execution_count": 1,
   "id": "d200cfbc-98dd-4a80-9292-e89412cdb1dd",
   "metadata": {},
   "outputs": [
    {
     "name": "stdout",
     "output_type": "stream",
     "text": [
      "Nr Products:  561\n",
      "Nr Resources:  32\n",
      "Nr Operations:  984\n",
      "Nr Customer Orders:  127\n"
     ]
    }
   ],
   "source": [
    "import pandas as pd\n",
    "import numpy as np\n",
    "from pathlib import Path\n",
    "import os\n",
    "from Data import*\n",
    "\n",
    "bom_df = pd.read_excel(\"Bill of Material (mrp.bom)updated.xlsx\")\n",
    "stock_df = pd.read_excel(\"Reordering Rule (stock.warehouse.orderpoint).xlsx\")\n",
    "Stockproducts = list(stock_df['Product'])\n",
    "#Machines_df = pd.read_excel(\"Maintenance Equipment.xlsx\")\n",
    "#Machines =list(Machines_df['']\n",
    "Machines = ['M3-01 - Accuwell - 3axis - Manual (FR3_01)','M5-03 - Haas - 5axis - Manual (UMC750)','M3-02 - Accuwell - 3axis - Manual (FR3_02)','M3-03 - Haas - 3axis - Manual (VF2SS)']\n",
    "AutomatedMachines = ['M5-04 - Haas - 5axis  - Manual (UMC750SS)','M5-01 - Accuwell - 5axis - Pallet automaton (FR5_01)','M4-01 - Accuwell -  4axis - Conveyor automation (FR4_01)','M4-02 - Accuwell - 4axis - Conveyor automation (FR4_02)','M5-02 - Accuwell - 5axis - Conveyor automation (FR5_02)']\n",
    "\n",
    "\n",
    "DataMgr = DataManager()\n",
    "DataMgr.getResources().clear()\n",
    "DataMgr.getProducts().clear()\n",
    "\n",
    "def MakeProduct (dbmgr,product,stock):\n",
    "\n",
    "    if (product.find(\"[\")>-1) and (product.find(\"]\")>-1):\n",
    "        productnumber = product[product.find(\"[\")+1:product.find(\"]\")];\n",
    "        productname = product[product.find(\"]\")+1:];\n",
    "        if not \"[\"+productnumber+\"]_\"+productname in dbmgr.getProducts():\n",
    "            newproduct = Product(len(dbmgr.getProducts()),\"[\"+productnumber+\"]_\"+productname,productnumber,stock);\n",
    "            return newproduct\n",
    "        else:\n",
    "            return dbmgr.getProducts()[\"[\"+productnumber+\"]_\"+productname]\n",
    "    else:\n",
    "        if not product in dbmgr.getProducts():\n",
    "            newproduct = Product(len(dbmgr.getProducts()),product,product,stock);\n",
    "            return newproduct\n",
    "        else:\n",
    "            return dbmgr.getProducts()[product]\n",
    "\n",
    "def MakeOperation(dbmgr,operation,prod,resource,duration):\n",
    "    myresource=None;\n",
    "    if not resource in dbmgr.getResources():\n",
    "        if resource in Machines or resource in AutomatedMachines:\n",
    "            if resource in Machines:\n",
    "              myresource = Resource(len(dbmgr.getResources()),\"Machine\",resource,15);\n",
    "              myresource.setAutomated(False);\n",
    "              myresource.setOperatingEffort(0.3);\n",
    "              myresource.setAvailableShift(\"All\");\n",
    "              dbmgr.getResources()[resource]=myresource;\n",
    "            else:\n",
    "               myresource = Resource(len(dbmgr.getResources()),\"Machine\",resource,15);\n",
    "               dbmgr.getResources()[resource]=myresource;\n",
    "               myresource.setAutomated(True);\n",
    "               myresource.setAvailableShift(\"All\");\n",
    "               myresource.setOperatingEffort(0.1);\n",
    "        elif \"Outsourced\" in resource.split():\n",
    "            myresource = Resource(len(dbmgr.getResources()),\"Outsourced\",resource,10000);\n",
    "            myresource.setAvailableShift(\"All\");\n",
    "            dbmgr.getResources()[resource]=myresource;\n",
    "        else:\n",
    "            myresource = Resource(len(dbmgr.getResources()),\"Manual\",resource,15);\n",
    "            myresource.setOperatingEffort(1);\n",
    "            myresource.setAvailableShift(\"All\");\n",
    "            dbmgr.getResources()[resource]=myresource;\n",
    "    else:\n",
    "        myresource = dbmgr.getResources()[resource]; \n",
    "\n",
    "    \n",
    "    newopr = Operation(len(dbmgr.getOperations()),operation+\"_\"+prod.getName(),duration)\n",
    "\n",
    "    if myresource !=None:\n",
    "        myresource.getOperations().append(newopr)\n",
    "        newopr.getRequiredResources().append(myresource)\n",
    "\n",
    "    if not newopr.getName() in dbmgr.getOperations():\n",
    "        dbmgr.getOperations()[newopr.getName()]=newopr;\n",
    "        \n",
    "    return newopr\n",
    "\n",
    "def SaveInstance(DataMgr,file):\n",
    "\n",
    "        # Save Products.\n",
    "        products_df = pd.DataFrame(columns= [\"ProductID\", \"ProductNumber\",\"Name\",\"StockLevel\"])\n",
    "        precedences_df = pd.DataFrame(columns= [\"PredecessorID\",\"SuccessorID\",\"Multiplier\"])\n",
    "        prodrops_df = pd.DataFrame(columns= [\"ProductID\",\"OperationID\",\"OperationIndex\"])\n",
    "        operations_df = pd.DataFrame(columns= [\"OperationID\",\"Name\",\"ProcessTime\"])\n",
    "        opsres_df = pd.DataFrame(columns= [\"OperationID\",\"ResourceID\"])\n",
    "        resources_df = pd.DataFrame(columns= [\"ResourceID\",\"ResourceType\",\"Name\",\"DailyCapacity\",\"Automated\",\"OperatingEffort\",\"Shift\"])\n",
    "        orders_df = pd.DataFrame(columns= [\"OrderID\",\"ProductID\",\"ProductName\",\"Name\",\"Quantity\",\"Deadline\"])\n",
    " \n",
    "        \n",
    "        for name,myprod in DataMgr.Products.items():\n",
    "            products_df.loc[len(products_df)] = {\"ProductID\":myprod.getID(), \"ProductNumber\":myprod.getPN(),\"Name\":myprod.getName(),\"StockLevel\":myprod.getStockLevel()}\n",
    "\n",
    "            \n",
    "            for pred in myprod.getPredecessors():\n",
    "                precedences_df.loc[len(precedences_df)] = {\"PredecessorID\":pred.getID(),\"SuccessorID\":myprod.getID(),\"Multiplier\":myprod.getMPredecessors()[pred]}\n",
    " \n",
    "            oprind = 0\n",
    "            for opr in myprod.getOperations(): \n",
    "                prodrops_df.loc[len(prodrops_df)] = {\"ProductID\":myprod.getID(),\"OperationID\":opr.getID(),\"OperationIndex\":oprind}\n",
    "                oprind+=1 \n",
    "\n",
    "        for opname,opr in DataMgr.Operations.items():\n",
    "            operations_df.loc[len(operations_df)]= {\"OperationID\":opr.getID(),\"Name\":opr.getName(),\"ProcessTime\":opr.getProcessTime()}\n",
    "            \n",
    "            for res in opr.getRequiredResources(): \n",
    "                opsres_df.loc[len(opsres_df)]= {\"OperationID\":opr.getID(),\"ResourceID\":res.getID()}\n",
    "        \n",
    "\n",
    "        for resname,res in DataMgr.Resources.items():\n",
    "            resources_df.loc[len(resources_df)] ={\"ResourceID\":res.getID(),\"ResourceType\":res.getType(),\"Name\":res.getName(),\"DailyCapacity\":res.getDailyCapacity(),\"Automated\":res.getAutomated(),\"OperatingEffort\":res.getOperatingEffort(),\"Shift\":res.getAvailableShift()}\n",
    " \n",
    "        \n",
    "        for ordname,ordr in DataMgr.CustomerOrders.items():\n",
    "            orders_df.loc[len(orders_df)]={\"OrderID\":ordr.getID(),\"ProductID\":ordr.getProduct().getID(),\"ProductName\":ordr.getProduct().getName(),\"Name\":ordr.getName(),\"Quantity\":ordr.getQuantity(),\"Deadline\":ordr.getDeadLine()}\n",
    "\n",
    "    \n",
    "\n",
    "\n",
    "        folder = 'UseCases'; casename = file\n",
    "        path = folder+\"\\\\\"+casename\n",
    "        isExist = os.path.exists(path)\n",
    "\n",
    "        if not isExist:\n",
    "            os.makedirs(path)\n",
    "       \n",
    "        \n",
    "        filename = 'Products.csv'; path = folder+\"\\\\\"+casename+\"\\\\\"+filename;  fullpath = os.path.join(Path.cwd(), path) \n",
    "        products_df.to_csv(path, index=False)\n",
    "        filename = 'Precedences.csv';path = folder+\"\\\\\"+casename+\"\\\\\"+filename; fullpath = os.path.join(Path.cwd(), path)\n",
    "        precedences_df.to_csv(fullpath, index=False)\n",
    "        filename = 'ProductsOperations.csv'; path = folder+\"\\\\\"+casename+\"\\\\\"+filename; fullpath = os.path.join(Path.cwd(), path)\n",
    "        prodrops_df.to_csv(fullpath, index=False)\n",
    "        filename = 'ResourcesOperations.csv'; path = folder+\"\\\\\"+casename+\"\\\\\"+filename; fullpath = os.path.join(Path.cwd(), path)\n",
    "        opsres_df.to_csv(fullpath, index=False)\n",
    "        filename = 'Operations.csv'; path = folder+\"\\\\\"+casename+\"\\\\\"+filename; fullpath = os.path.join(Path.cwd(), path)\n",
    "        operations_df.to_csv(fullpath, index=False)\n",
    "        filename = 'Resources.csv'; path = folder+\"\\\\\"+casename+\"\\\\\"+filename; fullpath = os.path.join(Path.cwd(), path)\n",
    "        resources_df.to_csv(fullpath, index=False)\n",
    "        filename = 'CustomerOrders.csv'; path = folder+\"\\\\\"+casename+\"\\\\\"+filename;fullpath = os.path.join(Path.cwd(), path)\n",
    "        orders_df.to_csv(fullpath, index=False)\n",
    "\n",
    "        return\n",
    "\n",
    "##Create operators\n",
    "Op1 = Resource(len(DataMgr.getResources()),\"Operator\",\"Operator 1\",8);\n",
    "Op1.setAvailableShift(1);\n",
    "DataMgr.getResources()[\"Operator 1\"]=Op1;\n",
    "\n",
    "Op2 = Resource(len(DataMgr.getResources()),\"Operator\",\"Operator 2\",8);\n",
    "Op2.setAvailableShift(1);\n",
    "DataMgr.getResources()[\"Operator 2\"]=Op2;\n",
    "\n",
    "Op3 = Resource(len(DataMgr.getResources()),\"Operator\",\"Operator 3\",7);\n",
    "Op3.setAvailableShift(2);\n",
    "DataMgr.getResources()[\"Operator 3\"]=Op3;\n",
    "##End create operators\n",
    "\n",
    "\n",
    "\n",
    "\n",
    "nopass = 0;\n",
    "Stockproducts = list(stock_df['Product'])\n",
    "for i,r in bom_df.iterrows():\n",
    "\n",
    "    productrow = False;\n",
    "    if nopass > 0:\n",
    "        nopass -=1\n",
    "        continue\n",
    "\n",
    "    if isinstance(r['Product'],str):\n",
    "        if not pd.isnull(r['Product']):\n",
    "            productrow = True;\n",
    "\n",
    "    if productrow == True:\n",
    "        newproduct = MakeProduct(DataMgr,r['Product'],0)\n",
    "        DataMgr.getProducts()[newproduct.getName()] = newproduct;\n",
    "\n",
    "        if not pd.isnull(r['BoM Lines/Component']):\n",
    "            rawprod=r['BoM Lines/Component']\n",
    "            if rawprod in Stockproducts:\n",
    "                stock = stock_df['On Hand'][Stockproducts.index(rawprod)]\n",
    "            else:\n",
    "                stock=0\n",
    "\n",
    "            rawprod = MakeProduct(DataMgr,r['BoM Lines/Component'],stock)\n",
    "            \n",
    "            quantity = r['BoM Lines/Quantity']\n",
    "\n",
    "            newproduct.getMPredecessors()[rawprod] = quantity\n",
    "            newproduct.getPredecessors().append(rawprod)\n",
    "            rawprod.setSuccessor(newproduct)\n",
    "\n",
    "            DataMgr.getProducts()[rawprod.getName()] = rawprod\n",
    "\n",
    "        j = i\n",
    "        while j < len(bom_df):\n",
    "            if not pd.isnull(bom_df.iloc[j,bom_df.columns.get_loc('Product')]) and j > i:\n",
    "                break\n",
    "            #print(\"Operation: \",bom_df.iloc[j,bom_df.columns.get_loc('BoM Lines/Operations')],\"-\",bom_df.iloc[j,bom_df.columns.get_loc('Reference')])\n",
    "            duration = bom_df['BoM Lines/Operations/Duration'][j]\n",
    "            if isinstance(duration, (int, float)):\n",
    "                dur = float(1/60)*float(duration) # time assumed to be minute..\n",
    "\n",
    "            if not pd.isnull(bom_df.iloc[j,bom_df.columns.get_loc('BoM Lines/Operations')]):\n",
    "                if bom_df.iloc[j,bom_df.columns.get_loc('BoM Lines/Operations/Work Center')] == \"OUT - Outsourced activity\":\n",
    "                    myopr = MakeOperation(DataMgr,bom_df.iloc[j,bom_df.columns.get_loc('BoM Lines/Operations')],newproduct,bom_df.iloc[j,bom_df.columns.get_loc('BoM Lines/Operations/Work Center')]+\"_\"+bom_df.iloc[j,bom_df.columns.get_loc('BoM Lines/Operations')],dur)\n",
    "                    newproduct.getOperations().append(myopr)\n",
    "                    \n",
    "                else:\n",
    "                    myopr = MakeOperation(DataMgr,bom_df.iloc[j,bom_df.columns.get_loc('BoM Lines/Operations')],newproduct,bom_df.iloc[j,bom_df.columns.get_loc('BoM Lines/Operations/Work Center')],dur)\n",
    "                    newproduct.getOperations().append(myopr)\n",
    "                \n",
    "               \n",
    "   \n",
    "            j+=1 \n",
    "        nopass=len(newproduct.getOperations())-1\n",
    "       \n",
    "        i = j-1\n",
    "        #print(\"i\",i,\"j\",j)\n",
    "    else:\n",
    "        print(\">>>>>>>>>>>> No Product definition: \", isinstance(r['Product'],str),pd.isnull(r['Product']))\n",
    "        print(\"Product value: \",r['Product'])\n",
    "        print(r)\n",
    "\n",
    "rel_path = \"Sales Order Line (sale.order.line).xlsx\"\n",
    "abs_file_path = os.path.join(Path.cwd(), rel_path)\n",
    "xls = pd.ExcelFile(abs_file_path)\n",
    "orders_df = pd.read_excel(xls,\"Sheet1\")\n",
    "\n",
    "#orders_df['Delivery Date']  = pd.to_datetime(orders_df['Delivery Date'] )\n",
    "\n",
    "for i,r in orders_df.iterrows():\n",
    "    code = r['Description']\n",
    "    if code.find(\"[\")>-1 and code.find(\"]\")>-1:\n",
    "        code = code[code.find(\"[\")+1:code.find(\"]\")]\n",
    "    else:\n",
    "        continue\n",
    "    \n",
    "    ordername = r['Order Reference']+\"_(\"+code+\")\"\n",
    "\n",
    "    prodmatch = [prod for prod in DataMgr.getProducts().values() if prod.getPN() == code]\n",
    "\n",
    "    if len(prodmatch) == 0:\n",
    "        continue\n",
    "\n",
    "    myprod = prodmatch[0]\n",
    "\n",
    "    deadline = datetime.today().strftime('%Y-%m-%d')\n",
    "\n",
    "    if not pd.isnull(r['Delivery Date']):\n",
    "        deadline = r['Delivery Date'].strftime('%Y-%m-%d')\n",
    "    \n",
    "\n",
    "    #print(r['Delivery Date'],pd.isnull(r['Delivery Date']))\n",
    "    myorder = CustomerOrder(len(DataMgr.getCustomerOrders()),ordername,myprod.getID()\n",
    "                                                           ,myprod.getName(),r['Quantity'],str(deadline))\n",
    "    myorder.setProduct(myprod)\n",
    "\n",
    "    DataMgr.getCustomerOrders()[ordername] = myorder\n",
    "\n",
    "print('Nr Products: ',len(DataMgr.getProducts()))\n",
    "print('Nr Resources: ',len(DataMgr.getResources()))\n",
    "print('Nr Operations: ',len(DataMgr.getOperations()))\n",
    "print(\"Nr Customer Orders: \",len(DataMgr.getCustomerOrders()))\n",
    "\n",
    "SaveInstance(DataMgr,'TBRM_Volledige_Instantie')\n",
    "\n",
    "    \n",
    "\n",
    "    \n",
    "    \n",
    "        \n",
    "\n",
    "    "
   ]
  },
  {
   "cell_type": "code",
   "execution_count": 1,
   "id": "0c68d6c3-35b6-4427-b9c2-c2e6b20c400b",
   "metadata": {
    "scrolled": true
   },
   "outputs": [
    {
     "data": {
      "application/vnd.jupyter.widget-view+json": {
       "model_id": "adafa9ed9d1f434c96a5df7fcff6b6ca",
       "version_major": 2,
       "version_minor": 0
      },
      "text/plain": [
       "Tab(children=(VBox(children=(HBox(children=(Text(value='UseCases', description='Folder name:'), Dropdown(descr…"
      ]
     },
     "execution_count": 1,
     "metadata": {},
     "output_type": "execute_result"
    }
   ],
   "source": [
    "import os\n",
    "online_version = False;\n",
    "from DBMain import*\n",
    "\n",
    "#############################################################################################################\n",
    "tab_1 = VisMgr.get_case_selection_tab(); tab_4 = VisMgr.generatePSTAB(); tab_2 = VisMgr.generateCOTAB(); tab_3 = VisMgr.generatePLTAB()\n",
    "tab_5 = VisMgr.generatePSschTAB()\n",
    "####################################################################################################################\n",
    "tab_set = widgets.Tab([tab_1,tab_4,tab_2,tab_3,tab_5])\n",
    "tab_set.set_title(0, 'UseCase Selection'); tab_set.set_title(1, 'Production System'); tab_set.set_title(2, 'Customer Orders');\n",
    "tab_set.set_title(3, 'Production Planning'); tab_set.set_title(4, 'Production Schedule');tab_set"
   ]
  },
  {
   "cell_type": "code",
   "execution_count": 2,
   "id": "cdef2817-b0e6-4864-92b3-6352cfdb8f0b",
   "metadata": {},
   "outputs": [],
   "source": [
    "a = DataMgr"
   ]
  },
  {
   "cell_type": "code",
   "execution_count": 6,
   "id": "440a3e68-7968-4e87-b14b-d944c68119e4",
   "metadata": {},
   "outputs": [],
   "source": [
    "b = a.getOperations()"
   ]
  },
  {
   "cell_type": "code",
   "execution_count": 7,
   "id": "770dc60b-2a64-443a-8fa0-85e37b03ae20",
   "metadata": {},
   "outputs": [
    {
     "data": {
      "text/plain": [
       "<PlanningObjects.Operation at 0x28ea3445f40>"
      ]
     },
     "execution_count": 7,
     "metadata": {},
     "output_type": "execute_result"
    }
   ],
   "source": [
    "b['Chromising_[BD50-5075-011-E]_ bracket']"
   ]
  },
  {
   "cell_type": "code",
   "execution_count": 10,
   "id": "4d2a90c2-a8fc-4c79-ab72-396d868e69f2",
   "metadata": {},
   "outputs": [],
   "source": [
    "c= b['Milling (FR3_01)_[BD50-5075-013F]_ bracket'].getJobs()"
   ]
  },
  {
   "cell_type": "code",
   "execution_count": 15,
   "id": "4d917b1f-2e0e-4e11-a521-076c9e8c06f6",
   "metadata": {},
   "outputs": [
    {
     "data": {
      "text/plain": [
       "[<PlanningObjects.Job at 0x28ea398f200>]"
      ]
     },
     "execution_count": 15,
     "metadata": {},
     "output_type": "execute_result"
    }
   ],
   "source": [
    "c[0].getSuccessor()"
   ]
  },
  {
   "cell_type": "code",
   "execution_count": 16,
   "id": "cd9fefdb-0ef8-4940-9906-d8cd1d384a5d",
   "metadata": {},
   "outputs": [
    {
     "data": {
      "text/plain": [
       "[<PlanningObjects.Job at 0x28ea3999250>]"
      ]
     },
     "execution_count": 16,
     "metadata": {},
     "output_type": "execute_result"
    }
   ],
   "source": [
    "c[0].getPredecessors()"
   ]
  },
  {
   "cell_type": "code",
   "execution_count": 2,
   "id": "9bece2e4-6ed2-4708-aaf5-2b2c9a34096f",
   "metadata": {},
   "outputs": [
    {
     "ename": "NameError",
     "evalue": "name 'res' is not defined",
     "output_type": "error",
     "traceback": [
      "\u001b[1;31m---------------------------------------------------------------------------\u001b[0m",
      "\u001b[1;31mNameError\u001b[0m                                 Traceback (most recent call last)",
      "Cell \u001b[1;32mIn[2], line 1\u001b[0m\n\u001b[1;32m----> 1\u001b[0m res\n",
      "\u001b[1;31mNameError\u001b[0m: name 'res' is not defined"
     ]
    }
   ],
   "source": [
    "res"
   ]
  },
  {
   "cell_type": "code",
   "execution_count": null,
   "id": "eaf51307-fa33-42bb-b523-70bce0d807cb",
   "metadata": {},
   "outputs": [],
   "source": []
  }
 ],
 "metadata": {
  "kernelspec": {
   "display_name": "Python 3 (ipykernel)",
   "language": "python",
   "name": "python3"
  },
  "language_info": {
   "codemirror_mode": {
    "name": "ipython",
    "version": 3
   },
   "file_extension": ".py",
   "mimetype": "text/x-python",
   "name": "python",
   "nbconvert_exporter": "python",
   "pygments_lexer": "ipython3",
   "version": "3.12.9"
  }
 },
 "nbformat": 4,
 "nbformat_minor": 5
}
