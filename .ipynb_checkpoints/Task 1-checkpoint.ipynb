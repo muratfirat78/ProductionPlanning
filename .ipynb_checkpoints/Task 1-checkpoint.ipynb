{
 "cells": [
  {
   "cell_type": "markdown",
   "id": "12d73997",
   "metadata": {},
   "source": [
    "A. How many features does the dataset have? Is there a target variable?\n",
    "\n",
    "Data has 16 features (independent variables) excluding target variable and 383 instances (observations) for each. \n",
    "Target variable is ‘recurred’ which is equal to “Yes” if recurrence of well differentiated thyroid cancer has occurred and equal to “No” otherwise.\n",
    "\n",
    "B. How many features are numerical, textual, categorical or Boolean? Is there any statistical dependency between the features?\n",
    "\n",
    "‘Age’ is numerical feature.\n",
    "‘Smoking’, ‘Hx Smoking’, ‘Hx Radiothreapy’, ‘Adenopathy’ and ‘Recurred’ are Boolean features as they have Yes/No responses only. \n",
    "‘Gender’, ‘Thyroid Function’, ‘Physical Examination’, ‘Pathology’, ‘Focality’, ‘Risk’, ‘T’, ‘N’, ‘M’, ‘Stage’, and ‘Response’ are categorical features. \n",
    "Statistical dependency between features is that ‘Recurred’ is target variable and remaining 16 features are independent variables."
   ]
  },
  {
   "cell_type": "markdown",
   "id": "5771fecf-668b-4488-84a2-3e55b03319fe",
   "metadata": {},
   "source": [
    "__Comment 1.1.A__\n",
    "\n",
    "Your answer is correct, however there is no Python code that generates your answer. \n",
    "\n",
    "__Comment 1.1.B__\n",
    "Your answer about fueature types is correct, again there is no Python code that generates your answer. Statistical dependency is not answered, since there your answer shoul include correlation matrix and other methods, e.g. chi-sqaure method, biseerial point method, to find correlation betweeen categorical feautures and other ones. \n",
    "\n"
   ]
  },
  {
   "cell_type": "code",
   "execution_count": 1,
   "id": "a43e9c6a-b4b3-4eef-9607-cf7f454eb620",
   "metadata": {
    "scrolled": true
   },
   "outputs": [
    {
     "name": "stdout",
     "output_type": "stream",
     "text": [
      "Requirement already satisfied: pandas in c:\\users\\uzair\\appdata\\local\\programs\\python\\python39\\lib\\site-packages (2.2.1)\n",
      "Requirement already satisfied: numpy<2,>=1.22.4 in c:\\users\\uzair\\appdata\\local\\programs\\python\\python39\\lib\\site-packages (from pandas) (1.23.2)\n",
      "Requirement already satisfied: python-dateutil>=2.8.2 in c:\\users\\uzair\\appdata\\local\\programs\\python\\python39\\lib\\site-packages (from pandas) (2.8.2)\n",
      "Requirement already satisfied: pytz>=2020.1 in c:\\users\\uzair\\appdata\\local\\programs\\python\\python39\\lib\\site-packages (from pandas) (2023.3.post1)\n",
      "Requirement already satisfied: tzdata>=2022.7 in c:\\users\\uzair\\appdata\\local\\programs\\python\\python39\\lib\\site-packages (from pandas) (2024.1)\n",
      "Requirement already satisfied: six>=1.5 in c:\\users\\uzair\\appdata\\local\\programs\\python\\python39\\lib\\site-packages (from python-dateutil>=2.8.2->pandas) (1.16.0)\n",
      "Note: you may need to restart the kernel to use updated packages.\n"
     ]
    },
    {
     "name": "stderr",
     "output_type": "stream",
     "text": [
      "\n",
      "[notice] A new release of pip is available: 25.0 -> 25.0.1\n",
      "[notice] To update, run: c:\\users\\uzair\\appdata\\local\\programs\\python\\python39\\python.exe -m pip install --upgrade pip\n"
     ]
    }
   ],
   "source": [
    "pip install pandas"
   ]
  },
  {
   "cell_type": "code",
   "execution_count": 1,
   "id": "a17f1f42-2a7a-4f3a-aea2-3e81d43af8c2",
   "metadata": {},
   "outputs": [
    {
     "name": "stdout",
     "output_type": "stream",
     "text": [
      "   Age Gender Smoking Hx Smoking Hx Radiothreapy Thyroid Function  \\\n",
      "0   27      F      No         No              No        Euthyroid   \n",
      "1   34      F      No        Yes              No        Euthyroid   \n",
      "2   30      F      No         No              No        Euthyroid   \n",
      "3   62      F      No         No              No        Euthyroid   \n",
      "4   62      F      No         No              No        Euthyroid   \n",
      "\n",
      "          Physical Examination Adenopathy       Pathology     Focality Risk  \\\n",
      "0   Single nodular goiter-left         No  Micropapillary    Uni-Focal  Low   \n",
      "1          Multinodular goiter         No  Micropapillary    Uni-Focal  Low   \n",
      "2  Single nodular goiter-right         No  Micropapillary    Uni-Focal  Low   \n",
      "3  Single nodular goiter-right         No  Micropapillary    Uni-Focal  Low   \n",
      "4          Multinodular goiter         No  Micropapillary  Multi-Focal  Low   \n",
      "\n",
      "     T   N   M Stage       Response Recurred  \n",
      "0  T1a  N0  M0     I  Indeterminate       No  \n",
      "1  T1a  N0  M0     I      Excellent       No  \n",
      "2  T1a  N0  M0     I      Excellent       No  \n",
      "3  T1a  N0  M0     I      Excellent       No  \n",
      "4  T1a  N0  M0     I      Excellent       No  \n"
     ]
    }
   ],
   "source": [
    "import pandas as pd\n",
    "\n",
    "# Load the CSV file\n",
    "df = pd.read_csv('Thyroid_Diff.csv')\n",
    "\n",
    "# Display the first few rows of the dataframe\n",
    "print(df.head())\n"
   ]
  },
  {
   "cell_type": "markdown",
   "id": "d60a4f3f",
   "metadata": {},
   "source": [
    "C. Identify the best suited task for the chosen dataset. Is this a supervised or unsupervised data mining task? Is it a) clustering, b) classification or c) regression task?\n",
    "\n",
    "It is supervised classification task as target variable ‘Recurred’ is a Boolean variable i.e., it can take only Yes/No values (see Python code and output below). "
   ]
  },
  {
   "cell_type": "code",
   "execution_count": 7,
   "id": "ca7c38a5-cf4f-4309-8e04-fd522a2eadeb",
   "metadata": {},
   "outputs": [
    {
     "name": "stdout",
     "output_type": "stream",
     "text": [
      "Recurred\n",
      "No     275\n",
      "Yes    108\n",
      "Name: count, dtype: int64\n",
      "➡️ Task: Supervised Classification\n"
     ]
    }
   ],
   "source": [
    "# Recurred is categorical: Classification\n",
    "print(df['Recurred'].value_counts())\n",
    "print(\"➡️ Task: Supervised Classification\")"
   ]
  },
  {
   "cell_type": "markdown",
   "id": "affc3d23",
   "metadata": {},
   "source": [
    "A. Are there missing values in the data? Explain the most common techniques used to deal with missing values in a dataset. Show how you would perform this analysis in Python.\n",
    "\n",
    "There are no missing values for any of the features (see Python code and output below)\n",
    "Most common techniques used to deal with missing values in a dataset including filling them with mode (if categorical variable), filling them with mean (if numerical variable), and KNN or simple imputer from sklearn. "
   ]
  },
  {
   "cell_type": "code",
   "execution_count": 8,
   "id": "f1df6f9c-8298-4e86-a38e-7f6cf9fcd2c8",
   "metadata": {},
   "outputs": [
    {
     "name": "stdout",
     "output_type": "stream",
     "text": [
      "Missing values per column:\n",
      "Age                     0\n",
      "Gender                  0\n",
      "Smoking                 0\n",
      "Hx Smoking              0\n",
      "Hx Radiothreapy         0\n",
      "Thyroid Function        0\n",
      "Physical Examination    0\n",
      "Adenopathy              0\n",
      "Pathology               0\n",
      "Focality                0\n",
      "Risk                    0\n",
      "T                       0\n",
      "N                       0\n",
      "M                       0\n",
      "Stage                   0\n",
      "Response                0\n",
      "Recurred                0\n",
      "dtype: int64\n"
     ]
    }
   ],
   "source": [
    "# Show missing values\n",
    "print(\"Missing values per column:\")\n",
    "print(df.isnull().sum())\n",
    "\n",
    "# Fill missing values\n",
    "df.fillna(df.mode().iloc[0], inplace=True)  # Categorical mode\n",
    "df.fillna(df.mean(numeric_only=True), inplace=True)  # If any numerical\n"
   ]
  },
  {
   "cell_type": "markdown",
   "id": "e7d1607d",
   "metadata": {},
   "source": [
    "B. Are the classes balanced? Explain the most common techniques used to deal with the class imbalance problem.\n",
    "\n",
    "Class imbalance doesn’t exist as Yes: No ratio is 71.80: 28.19 (i.e., 90/10 imbalance not found) (see Python code and output below)\n",
    "Most common techniques used to deal with the class imbalance problem include Python SMOTE function (for oversampling minority class), or assigning class weights in model training. "
   ]
  },
  {
   "cell_type": "code",
   "execution_count": 9,
   "id": "58fa1f67-d443-4694-a3b5-857c96ddb81e",
   "metadata": {},
   "outputs": [
    {
     "name": "stdout",
     "output_type": "stream",
     "text": [
      "Recurred\n",
      "No     71.801567\n",
      "Yes    28.198433\n",
      "Name: proportion, dtype: float64\n"
     ]
    }
   ],
   "source": [
    "# Target distribution\n",
    "print(df['Recurred'].value_counts(normalize=True) * 100)\n"
   ]
  },
  {
   "cell_type": "markdown",
   "id": "7c40db2f",
   "metadata": {},
   "source": [
    "C. Are there outliers in the dataset? Show how you would perform the analysis in Python\n",
    "\n",
    "Age is the only numerical feature. So, we will check outliers only for it. No outliers were found for Age as there is no point shown beyond the start and end whiskers in the box-whisker plot below (see Python code and output below)"
   ]
  },
  {
   "cell_type": "code",
   "execution_count": 10,
   "id": "27e52dcb-9e6f-4372-acf6-fff83632c708",
   "metadata": {},
   "outputs": [
    {
     "data": {
      "image/png": "[encoded data removed]",
      "text/plain": [
       "<Figure size 432x288 with 1 Axes>"
      ]
     },
     "metadata": {
      "needs_background": "light"
     },
     "output_type": "display_data"
    }
   ],
   "source": [
    "import seaborn as sns\n",
    "import matplotlib.pyplot as plt\n",
    "\n",
    "# Boxplot for Age\n",
    "sns.boxplot(x=df['Age'])\n",
    "plt.title(\"Outlier Detection in Age\")\n",
    "plt.show()\n"
   ]
  },
  {
   "cell_type": "markdown",
   "id": "a4001de2",
   "metadata": {},
   "source": [
    "2: Visualisation and Interpretation.\n",
    "\n",
    "A. Plot the dataset with Python using three charts from Seaborn or Matplotlib library:"
   ]
  },
  {
   "cell_type": "code",
   "execution_count": 21,
   "id": "40b04fef-4b51-44b7-9b52-9c75457e6b2e",
   "metadata": {},
   "outputs": [
    {
     "data": {
      "image/png": "[encoded data removed]",
      "text/plain": [
       "<Figure size 432x288 with 1 Axes>"
      ]
     },
     "metadata": {
      "needs_background": "light"
     },
     "output_type": "display_data"
    },
    {
     "data": {
      "image/png": "[encoded data removed]",
      "text/plain": [
       "<Figure size 432x288 with 1 Axes>"
      ]
     },
     "metadata": {
      "needs_background": "light"
     },
     "output_type": "display_data"
    },
    {
     "data": {
      "image/png": "[encoded data removed]",
      "text/plain": [
       "<Figure size 432x288 with 1 Axes>"
      ]
     },
     "metadata": {
      "needs_background": "light"
     },
     "output_type": "display_data"
    }
   ],
   "source": [
    "# 1. Recurred count\n",
    "sns.countplot(x='Recurred', data=df)\n",
    "plt.title(\"Target Distribution\")\n",
    "plt.show()\n",
    "\n",
    "# 2. Age distribution by recurrence\n",
    "import matplotlib.pyplot as plt\n",
    "recurred_yes = df[df['Recurred'] == 'Yes']['Age']\n",
    "recurred_no = df[df['Recurred'] == 'No']['Age']\n",
    "plt.hist([recurred_no, recurred_yes], bins=10, edgecolor='black', \n",
    "         label=['No', 'Yes'], color=['skyblue', 'salmon'])\n",
    "plt.title('Age Distribution by Recurred Status')\n",
    "plt.xlabel('Age')\n",
    "plt.ylabel('Frequency')\n",
    "plt.legend(title='Recurred')\n",
    "plt.grid(True)\n",
    "plt.show()\n",
    "\n",
    "# 3. Gender vs Recurred\n",
    "sns.countplot(data=df, x='Gender', hue='Recurred')\n",
    "plt.title(\"Gender vs Recurred\")\n",
    "plt.show()\n"
   ]
  },
  {
   "cell_type": "markdown",
   "id": "1d4db22c",
   "metadata": {},
   "source": [
    "B. Describe and interpret each plot.\n",
    "\n",
    "1st plot shows seaborn count plot for ‘recurred’. Taller (blue) bar belongs to ‘No’ which means that recurrence didn’t occur for majority of instances. \n",
    "2nd plot shows Matplotlib plot of ‘age’ distribution by ‘recurred’ status. For all ages below 65 years, non-recurrence (blue bar) was higher than recurrence (red bar). On the other hand, for all ages 65 and above, recurrence (red bar) was higher than non-recurrence (blue bar).\n",
    "3rd plot shows seaborn count plot of ‘gender’ by ‘recurrence’. For females, non-recurrence (blue bar) was higher than recurrence (orange bar). On the other hand, for males, recurrence (orange bar) was higher than non-recurrence (blue bar)."
   ]
  },
  {
   "cell_type": "markdown",
   "id": "aad1136b",
   "metadata": {},
   "source": [
    "3: Modelling and Evaluation\n",
    "\n",
    "A. Analyse the data with three different algorithms using Python.\n",
    "Three machine learning Python models (i.e., Logistic, Random Forest, SVM) will be used to analyze (train and test) data. \n"
   ]
  },
  {
   "cell_type": "code",
   "execution_count": 22,
   "id": "c846fc18-831f-4186-acfd-0ff08ac79db3",
   "metadata": {},
   "outputs": [
    {
     "name": "stdout",
     "output_type": "stream",
     "text": [
      "\n",
      "📊 Logistic Regression Results:\n",
      "              precision    recall  f1-score   support\n",
      "\n",
      "           0       0.97      0.98      0.97        58\n",
      "           1       0.94      0.89      0.92        19\n",
      "\n",
      "    accuracy                           0.96        77\n",
      "   macro avg       0.96      0.94      0.95        77\n",
      "weighted avg       0.96      0.96      0.96        77\n",
      "\n",
      "Accuracy: 0.961038961038961\n",
      "\n",
      "📊 Random Forest Results:\n",
      "              precision    recall  f1-score   support\n",
      "\n",
      "           0       0.98      1.00      0.99        58\n",
      "           1       1.00      0.95      0.97        19\n",
      "\n",
      "    accuracy                           0.99        77\n",
      "   macro avg       0.99      0.97      0.98        77\n",
      "weighted avg       0.99      0.99      0.99        77\n",
      "\n",
      "Accuracy: 0.987012987012987\n",
      "\n",
      "📊 SVM Results:\n",
      "              precision    recall  f1-score   support\n",
      "\n",
      "           0       0.98      1.00      0.99        58\n",
      "           1       1.00      0.95      0.97        19\n",
      "\n",
      "    accuracy                           0.99        77\n",
      "   macro avg       0.99      0.97      0.98        77\n",
      "weighted avg       0.99      0.99      0.99        77\n",
      "\n",
      "Accuracy: 0.987012987012987\n"
     ]
    }
   ],
   "source": [
    "from sklearn.model_selection import train_test_split\n",
    "from sklearn.preprocessing import LabelEncoder, StandardScaler\n",
    "from sklearn.metrics import classification_report, accuracy_score\n",
    "from sklearn.ensemble import RandomForestClassifier\n",
    "from sklearn.linear_model import LogisticRegression\n",
    "from sklearn.svm import SVC\n",
    "\n",
    "# Encode categorical features\n",
    "X = df.drop('Recurred', axis=1)\n",
    "y = df['Recurred']\n",
    "\n",
    "# Encode categorical variables using one-hot\n",
    "X = pd.get_dummies(X, drop_first=True)\n",
    "\n",
    "# Encode target\n",
    "y = LabelEncoder().fit_transform(y)\n",
    "\n",
    "# Standardize numeric values\n",
    "X = StandardScaler().fit_transform(X)\n",
    "\n",
    "# Train/test split\n",
    "X_train, X_test, y_train, y_test = train_test_split(X, y, test_size=0.2, random_state=42)\n",
    "\n",
    "# Models\n",
    "models = {\n",
    "    \"Logistic Regression\": LogisticRegression(max_iter=1000),\n",
    "    \"Random Forest\": RandomForestClassifier(),\n",
    "    \"SVM\": SVC()\n",
    "}\n",
    "\n",
    "# Train and evaluate\n",
    "for name, model in models.items():\n",
    "    model.fit(X_train, y_train)\n",
    "    preds = model.predict(X_test)\n",
    "    print(f\"\\n📊 {name} Results:\")\n",
    "    print(classification_report(y_test, preds))\n",
    "    print(\"Accuracy:\", accuracy_score(y_test, preds))\n"
   ]
  },
  {
   "cell_type": "markdown",
   "id": "6033a43b",
   "metadata": {},
   "source": [
    "B. Interpret the results using suitable metrics and explain which of the algorithms performs the best.\n",
    "\n",
    "Accuracy score of random forest and SVM machine learning algorithm (i.e., 0.9870) was found to be higher than accuracy score of logistic regression machine learning algorithm (i.e., 0.9610). This implies that random forest and SVM machine learning algorithm performed better than logistic regression machine learning algorithm in terms of predicting recurrence of well differentiated thyroid cancer using 16 features (independent variables) in the given data. "
   ]
  }
 ],
 "metadata": {
  "kernelspec": {
   "display_name": "Python 3 (ipykernel)",
   "language": "python",
   "name": "python3"
  },
  "language_info": {
   "codemirror_mode": {
    "name": "ipython",
    "version": 3
   },
   "file_extension": ".py",
   "mimetype": "text/x-python",
   "name": "python",
   "nbconvert_exporter": "python",
   "pygments_lexer": "ipython3",
   "version": "3.11.5"
  }
 },
 "nbformat": 4,
 "nbformat_minor": 5
}
