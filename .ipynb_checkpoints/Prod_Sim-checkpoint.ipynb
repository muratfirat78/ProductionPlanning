{
 "cells": [
  {
   "cell_type": "markdown",
   "id": "ac3b7332-c32a-4429-9b09-049bf82351be",
   "metadata": {},
   "source": [
    "<img align=\"right\" width=\"125\" src=\"https://www.ou.nl/documents/40554/3255217/Logo_OU.jpg\"/>\n",
    "\n",
    "<br>\n",
    "<center> <font size =\"6\" color='red'> Production Planning Dashboard </font></center>\n",
    "<center> <font size =\"6\" color='red'> Planning and Scheduling under uncertainty </font></center> <br>\n",
    "\n",
    "<font size =\"4\" color='red'>*Introduction*</font> <br>\n",
    "In this production planning dashboard, we consider three basic sets of objects; product, resources, and operations. A product is an output of an activity, so-called operation, that consumes certain capacity of the specified resource. A product has a set of predecessors that should be ready to start the operation of it. Every product and its predecessor relation is specified with a multiplier such that so many predecessors are needed to produce one of the product. For example, one simple electronic card may need four screws and one microcontroller to be assembled. Here, this electronic card has two predcessors; screw and microcontroller with multipliers four and one respectively. Note that if a product has no predecessor, then it is a raw material. Every raw material in our problem has an initial stock level and they are consumed in required amounts when the successor products start being produced. <br> \n",
    "\n",
    "Resources are of several types, e.g. machines and operators. An operation takes certain time to execute by a resource and it is in unit either machine-hour or man-hour. A customer order speficies the product in demand, the required quantity, and the desired date for the delivery of the products. <br> \n",
    "\n",
    "The goal of the production planning is to determine how much (time-dependent) capacity of every resource is consumed to complete the customer orders on time and how many raw materials are necessary for the operations.\n",
    "\n",
    "\n",
    "\n",
    "<font size =\"4\" color='red'> *Baseline Planning Procedure:* </font><br>\n",
    "\n",
    "In this assignment you will implement s baseline planning procedure. Orders have priorities due to their deadlines; i.e. the customer order with soonest deadline must be planned first. The primary goal is to plan customer orders without minumum delay. You will determine the delivery dates of customer orders starting from the one with earliest deadline and continue with the other with next-earliest deadline, and so on. For each customer order, you will determine the required (cumulative) capacity use by following the BOMs of the final product backwards as we have shown in the running example of simple flow shop. When an infeasibility in capacity level of any resource is encountered, then you will try to recover to the feasible case by delaying the order delivery date, increnetally in one day steps. Once a delay of certain days brings a feasible required capacity use, then you will continue planning in the BOM till all raw materials are reached. Then the requires stock levels of raw materials are determined, as we have shown in the running example. <br>   \n",
    "\n",
    "\n",
    "The planning of customer orders will also require stock levels of raw materials. \n",
    "Every raw material can be purchased at most certain amount in every week. The required raw material levels of planned customer orders should be feasible by possibly purchasing additional amount of raw materials for every week. \n"
   ]
  },
  {
   "cell_type": "code",
   "execution_count": 1,
   "id": "30bc056f",
   "metadata": {},
   "outputs": [
    {
     "data": {
      "application/vnd.jupyter.widget-view+json": {
       "model_id": "093a9d3b8fc4452183baf7af594af219",
       "version_major": 2,
       "version_minor": 0
      },
      "text/plain": [
       "Tab(children=(VBox(children=(HBox(children=(Text(value='UseCases', description='Folder name:'), Dropdown(descr…"
      ]
     },
     "execution_count": 1,
     "metadata": {},
     "output_type": "execute_result"
    }
   ],
   "source": [
    "import os\n",
    "online_version = True;editmode = False\n",
    "if online_version:  \n",
    "    user = \"muratfirat78\";repo = \"ProductionPlanning\"\n",
    "    if os.path.isdir(repo):\n",
    "        !rm -rf {repo}\n",
    "    !git clone https://github.com/{user}/{repo}.git\n",
    "    %cd /content/{repo}\n",
    "from DBMain import*\n",
    "DataMgr.setOnlineVersion(online_version);VisMgr.setEditMode(editmode)\n",
    "#############################################################################################################\n",
    "tab_1 = VisMgr.get_case_selection_tab(); tab_4 = VisMgr.generatePSTAB(); tab_2 = VisMgr.generateCOTAB(); tab_3 = VisMgr.generatePLTAB()\n",
    "####################################################################################################################\n",
    "tab_set = widgets.Tab([tab_1,tab_4,tab_2,tab_3])\n",
    "tab_set.set_title(0, 'UseCase Selection'); tab_set.set_title(1, 'Production System'); tab_set.set_title(2, 'Customer Orders');tab_set.set_title(3, 'Production Planning'); tab_set"
   ]
  }
 ],
 "metadata": {
  "kernelspec": {
   "display_name": "Python 3 (ipykernel)",
   "language": "python",
   "name": "python3"
  },
  "language_info": {
   "codemirror_mode": {
    "name": "ipython",
    "version": 3
   },
   "file_extension": ".py",
   "mimetype": "text/x-python",
   "name": "python",
   "nbconvert_exporter": "python",
   "pygments_lexer": "ipython3",
   "version": "3.11.5"
  }
 },
 "nbformat": 4,
 "nbformat_minor": 5
}
