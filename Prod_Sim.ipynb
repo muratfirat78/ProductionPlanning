{
 "cells": [
  {
   "cell_type": "markdown",
   "id": "ac3b7332-c32a-4429-9b09-049bf82351be",
   "metadata": {},
   "source": [
    "<img align=\"right\" width=\"125\" src=\"https://www.ou.nl/documents/40554/3255217/Logo_OU.jpg\"/>\n",
    "\n",
    "<br>\n",
    "<center> <font size =\"6\" color='red'> Production Planning Cockpit </font></center>\n"
   ]
  },
  {
   "cell_type": "code",
   "execution_count": 1,
   "id": "30bc056f",
   "metadata": {},
   "outputs": [
    {
     "data": {
      "text/html": [
       "<style>.red_label { color:red }</style>"
      ],
      "text/plain": [
       "<IPython.core.display.HTML object>"
      ]
     },
     "metadata": {},
     "output_type": "display_data"
    },
    {
     "data": {
      "text/html": [
       "<style>.blue_label { color:blue }</style>"
      ],
      "text/plain": [
       "<IPython.core.display.HTML object>"
      ]
     },
     "metadata": {},
     "output_type": "display_data"
    },
    {
     "data": {
      "text/html": [
       "<style>.red_label { color:red }</style>"
      ],
      "text/plain": [
       "<IPython.core.display.HTML object>"
      ]
     },
     "metadata": {},
     "output_type": "display_data"
    },
    {
     "data": {
      "text/html": [
       "<style>.blue_label { color:blue }</style>"
      ],
      "text/plain": [
       "<IPython.core.display.HTML object>"
      ]
     },
     "metadata": {},
     "output_type": "display_data"
    },
    {
     "data": {
      "text/html": [
       "<style>.red_label { color:red }</style>"
      ],
      "text/plain": [
       "<IPython.core.display.HTML object>"
      ]
     },
     "metadata": {},
     "output_type": "display_data"
    },
    {
     "data": {
      "text/html": [
       "<style>.blue_label { color:blue }</style>"
      ],
      "text/plain": [
       "<IPython.core.display.HTML object>"
      ]
     },
     "metadata": {},
     "output_type": "display_data"
    },
    {
     "data": {
      "text/html": [
       "<style>.red_label { color:red }</style>"
      ],
      "text/plain": [
       "<IPython.core.display.HTML object>"
      ]
     },
     "metadata": {},
     "output_type": "display_data"
    },
    {
     "data": {
      "text/html": [
       "<style>.blue_label { color:blue }</style>"
      ],
      "text/plain": [
       "<IPython.core.display.HTML object>"
      ]
     },
     "metadata": {},
     "output_type": "display_data"
    },
    {
     "data": {
      "application/vnd.jupyter.widget-view+json": {
       "model_id": "2fbc62e0a2464deb8ce634491defbfe1",
       "version_major": 2,
       "version_minor": 0
      },
      "text/plain": [
       "Tab(children=(VBox(children=(HBox(children=(Text(value='UseCases', description='Folder name:'), Dropdown(descr…"
      ]
     },
     "execution_count": 1,
     "metadata": {},
     "output_type": "execute_result"
    }
   ],
   "source": [
    "import os\n",
    "online_version = False;editmode = True\n",
    "if online_version:  \n",
    "    user = \"muratfirat78\";repo = \"ProductionPlanning\"\n",
    "    if os.path.isdir(repo):\n",
    "        !rm -rf {repo}\n",
    "        \n",
    "    !git clone https://github.com/{user}/{repo}.git\n",
    "    %cd /content/{repo}\n",
    "from DBMain import*\n",
    "DataMgr.setOnlineVersion(online_version);VisMgr.setEditMode(editmode)\n",
    "#############################################################################################################\n",
    "tab_1 = VisMgr.get_case_selection_tab(); tab_4 = VisMgr.generatePSTAB(); \n",
    "tab_5 = VisMgr.getProductionProgressTab().generatePPrgTAB()\n",
    "tab_3 = VisMgr.generatePLTAB(); tab_6 = VisMgr.getSchedulingTab().generatePSschTAB()\n",
    "tab_7 = VisMgr.getSimulationTab().generateSimTAB()\n",
    "####################################################################################################################\n",
    "tab_set = widgets.Tab([tab_1,tab_4,tab_5,tab_3,tab_6,tab_7])\n",
    "\n",
    "\n",
    "tab_set.set_title(0, 'UseCase Selection'); tab_set.set_title(1, 'Instance Data');tab_set.set_title(2, 'Production Progress')\n",
    "tab_set.set_title(3, 'Planning');tab_set.set_title(4, 'Scheduling,');tab_set.set_title(5, 'Simulation')\n",
    "tab_set"
   ]
  },
  {
   "cell_type": "code",
   "execution_count": 3,
   "id": "0ce008f6-1607-4949-96c0-fff2175d548d",
   "metadata": {},
   "outputs": [],
   "source": [
    "#!pip install ipylab\n",
    "\n",
    "from ipylab import JupyterFrontEnd\n",
    "app = JupyterFrontEnd()\n",
    "app.commands.execute('notebook:insert-cell-below')"
   ]
  },
  {
   "cell_type": "code",
   "execution_count": null,
   "id": "3e5f8a84-e674-4dbd-bf34-6b91538322a5",
   "metadata": {},
   "outputs": [],
   "source": []
  }
 ],
 "metadata": {
  "kernelspec": {
   "display_name": "Python 3 (ipykernel)",
   "language": "python",
   "name": "python3"
  },
  "language_info": {
   "codemirror_mode": {
    "name": "ipython",
    "version": 3
   },
   "file_extension": ".py",
   "mimetype": "text/x-python",
   "name": "python",
   "nbconvert_exporter": "python",
   "pygments_lexer": "ipython3",
   "version": "3.11.5"
  }
 },
 "nbformat": 4,
 "nbformat_minor": 5
}
